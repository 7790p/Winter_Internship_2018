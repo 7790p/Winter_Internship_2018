{
 "cells": [
  {
   "cell_type": "markdown",
   "metadata": {},
   "source": [
    "<h1 style='color:red'>Data Wrangling Tools</h1>"
   ]
  },
  {
   "cell_type": "code",
   "execution_count": 14,
   "metadata": {},
   "outputs": [
    {
     "name": "stderr",
     "output_type": "stream",
     "text": [
      "Warning message in readLines(file, n = thisblock):\n",
      "\"incomplete final line found on 'fwf.txt'\""
     ]
    },
    {
     "data": {
      "text/html": [
       "<table>\n",
       "<thead><tr><th scope=col>Subject</th><th scope=col>ID</th><th scope=col>Gender</th><th scope=col>Marks</th></tr></thead>\n",
       "<tbody>\n",
       "\t<tr><td>Phys</td><td>1   </td><td>M   </td><td>15  </td></tr>\n",
       "\t<tr><td>Math</td><td>2   </td><td>F   </td><td>15  </td></tr>\n",
       "\t<tr><td>Lang</td><td>3   </td><td>F   </td><td>18  </td></tr>\n",
       "\t<tr><td>Chem</td><td>4   </td><td>M   </td><td>17  </td></tr>\n",
       "\t<tr><td>Phys</td><td>1   </td><td>M   </td><td>15  </td></tr>\n",
       "\t<tr><td>Math</td><td>2   </td><td>F   </td><td>15  </td></tr>\n",
       "</tbody>\n",
       "</table>\n"
      ],
      "text/latex": [
       "\\begin{tabular}{r|llll}\n",
       " Subject & ID & Gender & Marks\\\\\n",
       "\\hline\n",
       "\t Phys & 1    & M    & 15  \\\\\n",
       "\t Math & 2    & F    & 15  \\\\\n",
       "\t Lang & 3    & F    & 18  \\\\\n",
       "\t Chem & 4    & M    & 17  \\\\\n",
       "\t Phys & 1    & M    & 15  \\\\\n",
       "\t Math & 2    & F    & 15  \\\\\n",
       "\\end{tabular}\n"
      ],
      "text/markdown": [
       "\n",
       "Subject | ID | Gender | Marks | \n",
       "|---|---|---|---|---|---|\n",
       "| Phys | 1    | M    | 15   | \n",
       "| Math | 2    | F    | 15   | \n",
       "| Lang | 3    | F    | 18   | \n",
       "| Chem | 4    | M    | 17   | \n",
       "| Phys | 1    | M    | 15   | \n",
       "| Math | 2    | F    | 15   | \n",
       "\n",
       "\n"
      ],
      "text/plain": [
       "  Subject ID Gender Marks\n",
       "1 Phys    1  M      15   \n",
       "2 Math    2  F      15   \n",
       "3 Lang    3  F      18   \n",
       "4 Chem    4  M      17   \n",
       "5 Phys    1  M      15   \n",
       "6 Math    2  F      15   "
      ]
     },
     "metadata": {},
     "output_type": "display_data"
    }
   ],
   "source": [
    "#reading data \n",
    "data = read.fwf(\"fwf.txt\", widths=c(4,-8,1,-4,1,-2,2),col.names=c(\"Subject\",\"ID\",\"Gender\",\"Marks\"))\n",
    "head(data)"
   ]
  },
  {
   "cell_type": "code",
   "execution_count": 27,
   "metadata": {},
   "outputs": [],
   "source": [
    "library(ggplot2)"
   ]
  },
  {
   "cell_type": "code",
   "execution_count": 29,
   "metadata": {},
   "outputs": [
    {
     "name": "stderr",
     "output_type": "stream",
     "text": [
      "Installing package into 'C:/Users/Sachin/Documents/R/win-library/3.5'\n",
      "(as 'lib' is unspecified)\n"
     ]
    },
    {
     "name": "stdout",
     "output_type": "stream",
     "text": [
      "package 'rjson' successfully unpacked and MD5 sums checked\n",
      "\n",
      "The downloaded binary packages are in\n",
      "\tC:\\Users\\Sachin\\AppData\\Local\\Temp\\RtmpENKXqp\\downloaded_packages\n"
     ]
    }
   ],
   "source": [
    "#for json file import rjson \n",
    "install.packages(\"rjson\")"
   ]
  },
  {
   "cell_type": "code",
   "execution_count": 31,
   "metadata": {},
   "outputs": [
    {
     "name": "stderr",
     "output_type": "stream",
     "text": [
      "Warning message:\n",
      "\"package 'jsonlite' was built under R version 3.5.2\""
     ]
    }
   ],
   "source": [
    "library(jsonlite)"
   ]
  },
  {
   "cell_type": "code",
   "execution_count": 32,
   "metadata": {},
   "outputs": [],
   "source": [
    "data = fromJSON(\"data.json\")"
   ]
  },
  {
   "cell_type": "code",
   "execution_count": 33,
   "metadata": {},
   "outputs": [
    {
     "data": {
      "text/html": [
       "<dl>\n",
       "\t<dt>$name</dt>\n",
       "\t\t<dd><ol class=list-inline>\n",
       "\t<li>'ram'</li>\n",
       "\t<li>'shyam'</li>\n",
       "\t<li>'ghanshyam'</li>\n",
       "\t<li>'hari'</li>\n",
       "\t<li>'mohan'</li>\n",
       "</ol>\n",
       "</dd>\n",
       "\t<dt>$bal</dt>\n",
       "\t\t<dd><ol class=list-inline>\n",
       "\t<li>10000</li>\n",
       "\t<li>25000</li>\n",
       "\t<li>23000</li>\n",
       "\t<li>23500</li>\n",
       "\t<li>1230</li>\n",
       "</ol>\n",
       "</dd>\n",
       "\t<dt>$password</dt>\n",
       "\t\t<dd><ol class=list-inline>\n",
       "\t<li>'ram'</li>\n",
       "\t<li>'hi'</li>\n",
       "\t<li>'bye'</li>\n",
       "\t<li>'hey'</li>\n",
       "\t<li>'hi'</li>\n",
       "</ol>\n",
       "</dd>\n",
       "\t<dt>$data</dt>\n",
       "\t\t<dd><dl>\n",
       "\t<dt>$name</dt>\n",
       "\t\t<dd>'python3'</dd>\n",
       "\t<dt>$type</dt>\n",
       "\t\t<dd>'json'</dd>\n",
       "\t<dt>$origin</dt>\n",
       "\t\t<dd>'grras'</dd>\n",
       "</dl>\n",
       "</dd>\n",
       "\t<dt>$copyright</dt>\n",
       "\t\t<dd>'grras solutions pvt. ltd.'</dd>\n",
       "\t<dt>$readonly</dt>\n",
       "\t\t<dd>TRUE</dd>\n",
       "\t<dt>$language</dt>\n",
       "\t\t<dd><ol class=list-inline>\n",
       "\t<li>'java'</li>\n",
       "\t<li>'python'</li>\n",
       "\t<li>'c'</li>\n",
       "\t<li>'c++'</li>\n",
       "</ol>\n",
       "</dd>\n",
       "</dl>\n"
      ],
      "text/latex": [
       "\\begin{description}\n",
       "\\item[\\$name] \\begin{enumerate*}\n",
       "\\item 'ram'\n",
       "\\item 'shyam'\n",
       "\\item 'ghanshyam'\n",
       "\\item 'hari'\n",
       "\\item 'mohan'\n",
       "\\end{enumerate*}\n",
       "\n",
       "\\item[\\$bal] \\begin{enumerate*}\n",
       "\\item 10000\n",
       "\\item 25000\n",
       "\\item 23000\n",
       "\\item 23500\n",
       "\\item 1230\n",
       "\\end{enumerate*}\n",
       "\n",
       "\\item[\\$password] \\begin{enumerate*}\n",
       "\\item 'ram'\n",
       "\\item 'hi'\n",
       "\\item 'bye'\n",
       "\\item 'hey'\n",
       "\\item 'hi'\n",
       "\\end{enumerate*}\n",
       "\n",
       "\\item[\\$data] \\begin{description}\n",
       "\\item[\\$name] 'python3'\n",
       "\\item[\\$type] 'json'\n",
       "\\item[\\$origin] 'grras'\n",
       "\\end{description}\n",
       "\n",
       "\\item[\\$copyright] 'grras solutions pvt. ltd.'\n",
       "\\item[\\$readonly] TRUE\n",
       "\\item[\\$language] \\begin{enumerate*}\n",
       "\\item 'java'\n",
       "\\item 'python'\n",
       "\\item 'c'\n",
       "\\item 'c++'\n",
       "\\end{enumerate*}\n",
       "\n",
       "\\end{description}\n"
      ],
      "text/markdown": [
       "$name\n",
       ":   1. 'ram'\n",
       "2. 'shyam'\n",
       "3. 'ghanshyam'\n",
       "4. 'hari'\n",
       "5. 'mohan'\n",
       "\n",
       "\n",
       "\n",
       "$bal\n",
       ":   1. 10000\n",
       "2. 25000\n",
       "3. 23000\n",
       "4. 23500\n",
       "5. 1230\n",
       "\n",
       "\n",
       "\n",
       "$password\n",
       ":   1. 'ram'\n",
       "2. 'hi'\n",
       "3. 'bye'\n",
       "4. 'hey'\n",
       "5. 'hi'\n",
       "\n",
       "\n",
       "\n",
       "$data\n",
       ":   $name\n",
       ":   'python3'\n",
       "$type\n",
       ":   'json'\n",
       "$origin\n",
       ":   'grras'\n",
       "\n",
       "\n",
       "\n",
       "$copyright\n",
       ":   'grras solutions pvt. ltd.'\n",
       "$readonly\n",
       ":   TRUE\n",
       "$language\n",
       ":   1. 'java'\n",
       "2. 'python'\n",
       "3. 'c'\n",
       "4. 'c++'\n",
       "\n",
       "\n",
       "\n",
       "\n",
       "\n"
      ],
      "text/plain": [
       "$name\n",
       "[1] \"ram\"       \"shyam\"     \"ghanshyam\" \"hari\"      \"mohan\"    \n",
       "\n",
       "$bal\n",
       "[1] 10000 25000 23000 23500  1230\n",
       "\n",
       "$password\n",
       "[1] \"ram\" \"hi\"  \"bye\" \"hey\" \"hi\" \n",
       "\n",
       "$data\n",
       "$data$name\n",
       "[1] \"python3\"\n",
       "\n",
       "$data$type\n",
       "[1] \"json\"\n",
       "\n",
       "$data$origin\n",
       "[1] \"grras\"\n",
       "\n",
       "\n",
       "$copyright\n",
       "[1] \"grras solutions pvt. ltd.\"\n",
       "\n",
       "$readonly\n",
       "[1] TRUE\n",
       "\n",
       "$language\n",
       "[1] \"java\"   \"python\" \"c\"      \"c++\"   \n"
      ]
     },
     "metadata": {},
     "output_type": "display_data"
    }
   ],
   "source": [
    "data"
   ]
  },
  {
   "cell_type": "code",
   "execution_count": 35,
   "metadata": {},
   "outputs": [
    {
     "name": "stdout",
     "output_type": "stream",
     "text": [
      "List of 7\n",
      " $ name     : chr [1:5] \"ram\" \"shyam\" \"ghanshyam\" \"hari\" ...\n",
      " $ bal      : int [1:5] 10000 25000 23000 23500 1230\n",
      " $ password : chr [1:5] \"ram\" \"hi\" \"bye\" \"hey\" ...\n",
      " $ data     :List of 3\n",
      "  ..$ name  : chr \"python3\"\n",
      "  ..$ type  : chr \"json\"\n",
      "  ..$ origin: chr \"grras\"\n",
      " $ copyright: chr \"grras solutions pvt. ltd.\"\n",
      " $ readonly : logi TRUE\n",
      " $ language : chr [1:4] \"java\" \"python\" \"c\" \"c++\"\n"
     ]
    }
   ],
   "source": [
    "str(data)"
   ]
  },
  {
   "cell_type": "code",
   "execution_count": null,
   "metadata": {},
   "outputs": [],
   "source": []
  }
 ],
 "metadata": {
  "kernelspec": {
   "display_name": "R",
   "language": "R",
   "name": "ir"
  },
  "language_info": {
   "codemirror_mode": "r",
   "file_extension": ".r",
   "mimetype": "text/x-r-source",
   "name": "R",
   "pygments_lexer": "r",
   "version": "3.5.0"
  }
 },
 "nbformat": 4,
 "nbformat_minor": 2
}
