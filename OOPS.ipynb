{
 "cells": [
  {
   "cell_type": "markdown",
   "metadata": {},
   "source": [
    "<h1 style='color:red'>Features of OOPS</h1>\n",
    "<ol>\n",
    "    <li>Encapsulation</li>\n",
    "    <li>Data Hiding</li>\n",
    "    <li>Abstraction</li>\n",
    "    <li>Inheritance</li>\n",
    "    <li>Over-riding</li>\n",
    "    <li>Polymorphism</li>\n",
    "    <li>Class</li>\n",
    "    <li>Object</li>\n",
    "</ol>"
   ]
  },
  {
   "cell_type": "raw",
   "metadata": {},
   "source": [
    "#Syantx\n",
    "class class_name(parent1,parent2,...) : \n",
    "    \"\"\"Doc-string of class\"\"\"\n",
    "    x = 5 #class variable or we can this share variable\n",
    "    def method1(self,arg1):\n",
    "        statement1\n",
    "        statement2\n",
    "        statement3\n",
    "    def method2(self):\n",
    "        statement1\n",
    "        statement2\n",
    "        statement3\n",
    "    def __magicmethod__(self,para1):\n",
    "        statement1\n",
    "        statement2"
   ]
  },
  {
   "cell_type": "code",
   "execution_count": 1,
   "metadata": {},
   "outputs": [],
   "source": [
    "class Person : \n",
    "    pass"
   ]
  },
  {
   "cell_type": "code",
   "execution_count": 4,
   "metadata": {},
   "outputs": [
    {
     "name": "stdout",
     "output_type": "stream",
     "text": [
      "<class 'type'>\n"
     ]
    }
   ],
   "source": [
    "print(type(Person))"
   ]
  },
  {
   "cell_type": "code",
   "execution_count": 5,
   "metadata": {},
   "outputs": [
    {
     "name": "stdout",
     "output_type": "stream",
     "text": [
      "<class '__main__.Person'>\n"
     ]
    }
   ],
   "source": [
    "a = Person()\n",
    "print(type(a))"
   ]
  },
  {
   "cell_type": "code",
   "execution_count": 6,
   "metadata": {},
   "outputs": [
    {
     "name": "stdout",
     "output_type": "stream",
     "text": [
      "<class '__main__.Person'>\n"
     ]
    }
   ],
   "source": [
    "print(Person)"
   ]
  },
  {
   "cell_type": "code",
   "execution_count": 7,
   "metadata": {},
   "outputs": [
    {
     "name": "stdout",
     "output_type": "stream",
     "text": [
      "<__main__.Person object at 0x00000184BF5088D0>\n"
     ]
    }
   ],
   "source": [
    "print(a)"
   ]
  },
  {
   "cell_type": "code",
   "execution_count": 8,
   "metadata": {},
   "outputs": [
    {
     "name": "stdout",
     "output_type": "stream",
     "text": [
      "<__main__.Person object at 0x00000184BF508978>\n"
     ]
    }
   ],
   "source": [
    "b = Person()\n",
    "print(b)"
   ]
  },
  {
   "cell_type": "code",
   "execution_count": 9,
   "metadata": {},
   "outputs": [],
   "source": [
    "class Person : \n",
    "    \"\"\"Hello This is a Person Class to Identify Human Properties.\"\"\""
   ]
  },
  {
   "cell_type": "code",
   "execution_count": 10,
   "metadata": {},
   "outputs": [
    {
     "name": "stdout",
     "output_type": "stream",
     "text": [
      "Hello This is a Person Class to Identify Human Properties.\n"
     ]
    }
   ],
   "source": [
    "print(Person.__doc__)"
   ]
  },
  {
   "cell_type": "code",
   "execution_count": 11,
   "metadata": {},
   "outputs": [
    {
     "name": "stdout",
     "output_type": "stream",
     "text": [
      "Help on class Person in module __main__:\n",
      "\n",
      "class Person(builtins.object)\n",
      " |  Hello This is a Person Class to Identify Human Properties.\n",
      " |  \n",
      " |  Data descriptors defined here:\n",
      " |  \n",
      " |  __dict__\n",
      " |      dictionary for instance variables (if defined)\n",
      " |  \n",
      " |  __weakref__\n",
      " |      list of weak references to the object (if defined)\n",
      "\n"
     ]
    }
   ],
   "source": [
    "help(Person)"
   ]
  },
  {
   "cell_type": "code",
   "execution_count": 12,
   "metadata": {},
   "outputs": [
    {
     "data": {
      "text/plain": [
       "['__class__',\n",
       " '__delattr__',\n",
       " '__dict__',\n",
       " '__dir__',\n",
       " '__doc__',\n",
       " '__eq__',\n",
       " '__format__',\n",
       " '__ge__',\n",
       " '__getattribute__',\n",
       " '__gt__',\n",
       " '__hash__',\n",
       " '__init__',\n",
       " '__init_subclass__',\n",
       " '__le__',\n",
       " '__lt__',\n",
       " '__module__',\n",
       " '__ne__',\n",
       " '__new__',\n",
       " '__reduce__',\n",
       " '__reduce_ex__',\n",
       " '__repr__',\n",
       " '__setattr__',\n",
       " '__sizeof__',\n",
       " '__str__',\n",
       " '__subclasshook__',\n",
       " '__weakref__']"
      ]
     },
     "execution_count": 12,
     "metadata": {},
     "output_type": "execute_result"
    }
   ],
   "source": [
    "dir(Person)"
   ]
  },
  {
   "cell_type": "code",
   "execution_count": 14,
   "metadata": {},
   "outputs": [],
   "source": [
    "class Person : \n",
    "    \"\"\"Hello This is a Person Class to Identify Human Properties.\"\"\"\n",
    "    name  = 'HUMAN' #class Variable\n",
    "    "
   ]
  },
  {
   "cell_type": "code",
   "execution_count": 17,
   "metadata": {},
   "outputs": [],
   "source": [
    "persons = [ Person() for var in range(10)]"
   ]
  },
  {
   "cell_type": "code",
   "execution_count": 19,
   "metadata": {},
   "outputs": [
    {
     "name": "stdout",
     "output_type": "stream",
     "text": [
      "[<__main__.Person object at 0x00000184BF51EBA8>, <__main__.Person object at 0x00000184BF51EC50>, <__main__.Person object at 0x00000184BF51EDA0>, <__main__.Person object at 0x00000184BF51EF28>, <__main__.Person object at 0x00000184BF51EEF0>, <__main__.Person object at 0x00000184BF51EFD0>, <__main__.Person object at 0x00000184BF5230B8>, <__main__.Person object at 0x00000184BFE71588>, <__main__.Person object at 0x00000184BFE716A0>, <__main__.Person object at 0x00000184BFE71B00>]\n"
     ]
    }
   ],
   "source": [
    "print(persons)"
   ]
  },
  {
   "cell_type": "code",
   "execution_count": 23,
   "metadata": {},
   "outputs": [],
   "source": [
    "persons[3].name\n",
    "\n",
    "Person.name = 'Python Programming'"
   ]
  },
  {
   "cell_type": "code",
   "execution_count": 24,
   "metadata": {},
   "outputs": [
    {
     "name": "stdout",
     "output_type": "stream",
     "text": [
      "Python Programming\n",
      "Python Programming\n",
      "Python Programming\n",
      "Python Programming\n",
      "Python Programming\n",
      "Python Programming\n",
      "Python Programming\n",
      "Python Programming\n",
      "Python Programming\n",
      "Python Programming\n"
     ]
    }
   ],
   "source": [
    "for each_person in persons : \n",
    "    print(each_person.name)"
   ]
  },
  {
   "cell_type": "code",
   "execution_count": 25,
   "metadata": {},
   "outputs": [],
   "source": [
    "class Person : \n",
    "    \"\"\"This is a Person Class\"\"\" #doc-stirng\n",
    "    name = 'Insaan' #class Variable"
   ]
  },
  {
   "cell_type": "code",
   "execution_count": 27,
   "metadata": {},
   "outputs": [],
   "source": [
    "p1 = Person() #object1\n",
    "p2 = Person() #object2"
   ]
  },
  {
   "cell_type": "code",
   "execution_count": 28,
   "metadata": {},
   "outputs": [
    {
     "data": {
      "text/plain": [
       "'Insaan'"
      ]
     },
     "execution_count": 28,
     "metadata": {},
     "output_type": "execute_result"
    }
   ],
   "source": [
    "p1.name"
   ]
  },
  {
   "cell_type": "code",
   "execution_count": 29,
   "metadata": {},
   "outputs": [
    {
     "data": {
      "text/plain": [
       "'Insaan'"
      ]
     },
     "execution_count": 29,
     "metadata": {},
     "output_type": "execute_result"
    }
   ],
   "source": [
    "p2.name"
   ]
  },
  {
   "cell_type": "code",
   "execution_count": 30,
   "metadata": {},
   "outputs": [],
   "source": [
    "p1.name = 'python'"
   ]
  },
  {
   "cell_type": "code",
   "execution_count": 31,
   "metadata": {},
   "outputs": [
    {
     "data": {
      "text/plain": [
       "'Insaan'"
      ]
     },
     "execution_count": 31,
     "metadata": {},
     "output_type": "execute_result"
    }
   ],
   "source": [
    "p2.name"
   ]
  },
  {
   "cell_type": "code",
   "execution_count": 32,
   "metadata": {},
   "outputs": [
    {
     "data": {
      "text/plain": [
       "'python'"
      ]
     },
     "execution_count": 32,
     "metadata": {},
     "output_type": "execute_result"
    }
   ],
   "source": [
    "p1.name"
   ]
  },
  {
   "cell_type": "code",
   "execution_count": 33,
   "metadata": {},
   "outputs": [
    {
     "data": {
      "text/plain": [
       "mappingproxy({'__module__': '__main__',\n",
       "              '__doc__': 'This is a Person Class',\n",
       "              'name': 'Insaan',\n",
       "              '__dict__': <attribute '__dict__' of 'Person' objects>,\n",
       "              '__weakref__': <attribute '__weakref__' of 'Person' objects>})"
      ]
     },
     "execution_count": 33,
     "metadata": {},
     "output_type": "execute_result"
    }
   ],
   "source": [
    "Person.__dict__"
   ]
  },
  {
   "cell_type": "code",
   "execution_count": 34,
   "metadata": {},
   "outputs": [
    {
     "data": {
      "text/plain": [
       "{'name': 'python'}"
      ]
     },
     "execution_count": 34,
     "metadata": {},
     "output_type": "execute_result"
    }
   ],
   "source": [
    "p1.__dict__"
   ]
  },
  {
   "cell_type": "code",
   "execution_count": 35,
   "metadata": {},
   "outputs": [
    {
     "data": {
      "text/plain": [
       "{}"
      ]
     },
     "execution_count": 35,
     "metadata": {},
     "output_type": "execute_result"
    }
   ],
   "source": [
    "p2.__dict__"
   ]
  },
  {
   "cell_type": "code",
   "execution_count": 36,
   "metadata": {},
   "outputs": [],
   "source": [
    "p1.kaam = 'Trainer'\n",
    "p2.kaam = 'majdoor'"
   ]
  },
  {
   "cell_type": "code",
   "execution_count": 37,
   "metadata": {},
   "outputs": [
    {
     "data": {
      "text/plain": [
       "mappingproxy({'__module__': '__main__',\n",
       "              '__doc__': 'This is a Person Class',\n",
       "              'name': 'Insaan',\n",
       "              '__dict__': <attribute '__dict__' of 'Person' objects>,\n",
       "              '__weakref__': <attribute '__weakref__' of 'Person' objects>})"
      ]
     },
     "execution_count": 37,
     "metadata": {},
     "output_type": "execute_result"
    }
   ],
   "source": [
    "Person.__dict__"
   ]
  },
  {
   "cell_type": "code",
   "execution_count": 38,
   "metadata": {},
   "outputs": [
    {
     "data": {
      "text/plain": [
       "{'name': 'python', 'kaam': 'Trainer'}"
      ]
     },
     "execution_count": 38,
     "metadata": {},
     "output_type": "execute_result"
    }
   ],
   "source": [
    "p1.__dict__"
   ]
  },
  {
   "cell_type": "code",
   "execution_count": 39,
   "metadata": {},
   "outputs": [
    {
     "data": {
      "text/plain": [
       "{'kaam': 'majdoor'}"
      ]
     },
     "execution_count": 39,
     "metadata": {},
     "output_type": "execute_result"
    }
   ],
   "source": [
    "p2.__dict__"
   ]
  },
  {
   "cell_type": "code",
   "execution_count": 47,
   "metadata": {},
   "outputs": [],
   "source": [
    "class Person : \n",
    "    \"\"\"This is Person Class.\"\"\"\n",
    "    name = 'Insaan'\n",
    "    def show(self):\n",
    "        print(\"Class name = \",Person.name)\n",
    "        print(\"Object name = \",self.name)"
   ]
  },
  {
   "cell_type": "code",
   "execution_count": 44,
   "metadata": {},
   "outputs": [
    {
     "name": "stdout",
     "output_type": "stream",
     "text": [
      "Class name =  Insaan\n",
      "Object name =  Insaan\n",
      "Class name =  Insaan\n",
      "Object name =  Insaan\n"
     ]
    }
   ],
   "source": [
    "p1 = Person()\n",
    "p2 = Person()\n",
    "p1.show() #----> Person.show(self=p1.__dict__)\n",
    "p2.show() #----> Person.show(p2.__dict__)"
   ]
  },
  {
   "cell_type": "code",
   "execution_count": 46,
   "metadata": {},
   "outputs": [
    {
     "name": "stdout",
     "output_type": "stream",
     "text": [
      "Class name =  Insaan\n",
      "Object name =  sachin\n",
      "Class name =  Insaan\n",
      "Object name =  rajat\n"
     ]
    }
   ],
   "source": [
    "p1.name = 'sachin'\n",
    "p2.name = 'rajat'\n",
    "p1.show()\n",
    "p2.show()"
   ]
  },
  {
   "cell_type": "code",
   "execution_count": 48,
   "metadata": {},
   "outputs": [
    {
     "name": "stdout",
     "output_type": "stream",
     "text": [
      "<__main__.Person object at 0x00000184BFF2B278>\n",
      "<__main__.Person object at 0x00000184BFF2B240>\n"
     ]
    }
   ],
   "source": [
    "print(p1)\n",
    "print(p2) #standard output"
   ]
  },
  {
   "cell_type": "code",
   "execution_count": 49,
   "metadata": {},
   "outputs": [
    {
     "data": {
      "text/plain": [
       "<__main__.Person at 0x184bff2b278>"
      ]
     },
     "execution_count": 49,
     "metadata": {},
     "output_type": "execute_result"
    }
   ],
   "source": [
    "p1 #shell output"
   ]
  },
  {
   "cell_type": "code",
   "execution_count": 50,
   "metadata": {},
   "outputs": [
    {
     "data": {
      "text/plain": [
       "<__main__.Person at 0x184bff2b240>"
      ]
     },
     "execution_count": 50,
     "metadata": {},
     "output_type": "execute_result"
    }
   ],
   "source": [
    "p2"
   ]
  },
  {
   "cell_type": "code",
   "execution_count": 51,
   "metadata": {},
   "outputs": [],
   "source": [
    "class Person : \n",
    "    \"\"\"HI i am Person\"\"\"\n",
    "    name = \"Insaan\"\n",
    "    def __str__(self) : #print ---> object.__str__\n",
    "        return \"hahahahahahhahaha\"\n",
    "        "
   ]
  },
  {
   "cell_type": "code",
   "execution_count": 52,
   "metadata": {},
   "outputs": [],
   "source": [
    "p1 = Person()"
   ]
  },
  {
   "cell_type": "code",
   "execution_count": 55,
   "metadata": {},
   "outputs": [
    {
     "name": "stdout",
     "output_type": "stream",
     "text": [
      "hahahahahahhahaha\n"
     ]
    }
   ],
   "source": [
    "print(p1) #print(p1.__str__)"
   ]
  },
  {
   "cell_type": "code",
   "execution_count": 56,
   "metadata": {},
   "outputs": [
    {
     "data": {
      "text/plain": [
       "<__main__.Person at 0x184bff2b4e0>"
      ]
     },
     "execution_count": 56,
     "metadata": {},
     "output_type": "execute_result"
    }
   ],
   "source": [
    "p1 #print(p1.__repr__)"
   ]
  },
  {
   "cell_type": "code",
   "execution_count": 57,
   "metadata": {},
   "outputs": [
    {
     "name": "stdout",
     "output_type": "stream",
     "text": [
      "<__main__.Person object at 0x00000184BFF2B4E0>\n"
     ]
    }
   ],
   "source": [
    "print(repr(p1)) #p1.__repr__"
   ]
  },
  {
   "cell_type": "code",
   "execution_count": 58,
   "metadata": {},
   "outputs": [],
   "source": [
    "class Person : \n",
    "    \"\"\"HI i am Person\"\"\"\n",
    "    name = \"Insaan\"\n",
    "    def __str__(self) : #print ---> object.__str__\n",
    "        return self.name\n",
    "    def __repr__(self):\n",
    "        return self.name"
   ]
  },
  {
   "cell_type": "code",
   "execution_count": 59,
   "metadata": {},
   "outputs": [
    {
     "name": "stdout",
     "output_type": "stream",
     "text": [
      "sachin\n",
      "Insaan\n"
     ]
    }
   ],
   "source": [
    "p1 = Person()\n",
    "p2 = Person()\n",
    "p1.name = 'sachin'\n",
    "print(p1)\n",
    "print(p2)"
   ]
  },
  {
   "cell_type": "code",
   "execution_count": 60,
   "metadata": {},
   "outputs": [
    {
     "data": {
      "text/plain": [
       "sachin"
      ]
     },
     "execution_count": 60,
     "metadata": {},
     "output_type": "execute_result"
    }
   ],
   "source": [
    "p1"
   ]
  },
  {
   "cell_type": "code",
   "execution_count": 61,
   "metadata": {},
   "outputs": [
    {
     "data": {
      "text/plain": [
       "Insaan"
      ]
     },
     "execution_count": 61,
     "metadata": {},
     "output_type": "execute_result"
    }
   ],
   "source": [
    "p2"
   ]
  },
  {
   "cell_type": "code",
   "execution_count": 62,
   "metadata": {},
   "outputs": [
    {
     "name": "stdout",
     "output_type": "stream",
     "text": [
      "Hello world\n",
      "\t\tto the world of python.\n"
     ]
    }
   ],
   "source": [
    "print(\"Hello world\\n\\t\\tto the world of python.\") #string "
   ]
  },
  {
   "cell_type": "code",
   "execution_count": 63,
   "metadata": {},
   "outputs": [
    {
     "name": "stdout",
     "output_type": "stream",
     "text": [
      "Hello world\\n\\t\\tto the world of python.\n"
     ]
    }
   ],
   "source": [
    "print(r\"Hello world\\n\\t\\tto the world of python.\") #string "
   ]
  },
  {
   "cell_type": "code",
   "execution_count": 64,
   "metadata": {},
   "outputs": [
    {
     "ename": "TypeError",
     "evalue": "unsupported operand type(s) for +: 'Person' and 'Person'",
     "output_type": "error",
     "traceback": [
      "\u001b[1;31m---------------------------------------------------------------------------\u001b[0m",
      "\u001b[1;31mTypeError\u001b[0m                                 Traceback (most recent call last)",
      "\u001b[1;32m<ipython-input-64-2a6f73ed9afd>\u001b[0m in \u001b[0;36m<module>\u001b[1;34m()\u001b[0m\n\u001b[1;32m----> 1\u001b[1;33m \u001b[0mp1\u001b[0m \u001b[1;33m+\u001b[0m \u001b[0mp2\u001b[0m\u001b[1;33m\u001b[0m\u001b[0m\n\u001b[0m",
      "\u001b[1;31mTypeError\u001b[0m: unsupported operand type(s) for +: 'Person' and 'Person'"
     ]
    }
   ],
   "source": [
    "p1 + p2 "
   ]
  },
  {
   "cell_type": "code",
   "execution_count": 65,
   "metadata": {},
   "outputs": [
    {
     "data": {
      "text/plain": [
       "11"
      ]
     },
     "execution_count": 65,
     "metadata": {},
     "output_type": "execute_result"
    }
   ],
   "source": [
    "x = 5\n",
    "y = 6\n",
    "x.__add__(6)"
   ]
  },
  {
   "cell_type": "code",
   "execution_count": 69,
   "metadata": {},
   "outputs": [],
   "source": [
    "class Person : \n",
    "    \"\"\"HI i am Person\"\"\"\n",
    "    name = \"Insaan\"\n",
    "    def __str__(self) : #print ---> object.__str__\n",
    "        return self.name\n",
    "    def __repr__(self):\n",
    "        return self.name\n",
    "    def __add__(self,obj):\n",
    "        return self.name+'\\t'+obj.name\n",
    "    \n",
    "p1 = Person()\n",
    "p2 = Person()\n",
    "p1.name,p2.name = 'sachin','rajat'"
   ]
  },
  {
   "cell_type": "code",
   "execution_count": 70,
   "metadata": {},
   "outputs": [
    {
     "name": "stdout",
     "output_type": "stream",
     "text": [
      "sachin\n",
      "rajat\n"
     ]
    }
   ],
   "source": [
    "print(p1)\n",
    "print(p2)"
   ]
  },
  {
   "cell_type": "code",
   "execution_count": 72,
   "metadata": {},
   "outputs": [
    {
     "name": "stdout",
     "output_type": "stream",
     "text": [
      "sachin\trajat\n"
     ]
    }
   ],
   "source": [
    "r = p1 + p2 \n",
    "print(r)"
   ]
  },
  {
   "cell_type": "code",
   "execution_count": 76,
   "metadata": {},
   "outputs": [],
   "source": [
    "class Vector : \n",
    "    \"\"\"This is a vector class v(x,y)\"\"\"\n",
    "    def __str__(self):\n",
    "        s  = f\"V({self.x},{self.y})\"\n",
    "        return s\n"
   ]
  },
  {
   "cell_type": "code",
   "execution_count": 77,
   "metadata": {},
   "outputs": [
    {
     "name": "stdout",
     "output_type": "stream",
     "text": [
      "V(5,10)\n"
     ]
    }
   ],
   "source": [
    "v1 = Vector()\n",
    "v1.x = 5\n",
    "v1.y = 10 \n",
    "print(v1)"
   ]
  },
  {
   "cell_type": "code",
   "execution_count": 78,
   "metadata": {},
   "outputs": [
    {
     "ename": "TypeError",
     "evalue": "Vector() takes no arguments",
     "output_type": "error",
     "traceback": [
      "\u001b[1;31m---------------------------------------------------------------------------\u001b[0m",
      "\u001b[1;31mTypeError\u001b[0m                                 Traceback (most recent call last)",
      "\u001b[1;32m<ipython-input-78-850e4baef9af>\u001b[0m in \u001b[0;36m<module>\u001b[1;34m()\u001b[0m\n\u001b[1;32m----> 1\u001b[1;33m \u001b[0mv1\u001b[0m \u001b[1;33m=\u001b[0m \u001b[0mVector\u001b[0m\u001b[1;33m(\u001b[0m\u001b[1;36m5\u001b[0m\u001b[1;33m,\u001b[0m\u001b[1;36m10\u001b[0m\u001b[1;33m)\u001b[0m\u001b[1;33m\u001b[0m\u001b[0m\n\u001b[0m",
      "\u001b[1;31mTypeError\u001b[0m: Vector() takes no arguments"
     ]
    }
   ],
   "source": [
    "v1 = Vector(5,10)"
   ]
  },
  {
   "cell_type": "code",
   "execution_count": 79,
   "metadata": {},
   "outputs": [
    {
     "data": {
      "text/plain": [
       "['__class__',\n",
       " '__delattr__',\n",
       " '__dict__',\n",
       " '__dir__',\n",
       " '__doc__',\n",
       " '__eq__',\n",
       " '__format__',\n",
       " '__ge__',\n",
       " '__getattribute__',\n",
       " '__gt__',\n",
       " '__hash__',\n",
       " '__init__',\n",
       " '__init_subclass__',\n",
       " '__le__',\n",
       " '__lt__',\n",
       " '__module__',\n",
       " '__ne__',\n",
       " '__new__',\n",
       " '__reduce__',\n",
       " '__reduce_ex__',\n",
       " '__repr__',\n",
       " '__setattr__',\n",
       " '__sizeof__',\n",
       " '__str__',\n",
       " '__subclasshook__',\n",
       " '__weakref__']"
      ]
     },
     "execution_count": 79,
     "metadata": {},
     "output_type": "execute_result"
    }
   ],
   "source": [
    "dir(Vector)"
   ]
  },
  {
   "cell_type": "code",
   "execution_count": 80,
   "metadata": {},
   "outputs": [],
   "source": [
    "class Vector : \n",
    "    def __init__(self,p=0,q=0) : \n",
    "        self.x = p\n",
    "        self.y = q\n",
    "    def __str__(self) : \n",
    "        return f\"V({self.x},{self.y})\"\n",
    "    def __repr__(self) : \n",
    "        return f\"V({self.x},{self.y})\"\n",
    "    def __add__(self,obj):\n",
    "        return f\"V({self.x+obj.x},{self.y+obj.y})\"\n",
    "    "
   ]
  },
  {
   "cell_type": "code",
   "execution_count": 81,
   "metadata": {},
   "outputs": [],
   "source": [
    "v1 = Vector(5,2)\n",
    "v2 = Vector(3,6)"
   ]
  },
  {
   "cell_type": "code",
   "execution_count": 82,
   "metadata": {},
   "outputs": [],
   "source": [
    "v3 = v1 + v2"
   ]
  },
  {
   "cell_type": "code",
   "execution_count": 84,
   "metadata": {},
   "outputs": [
    {
     "name": "stdout",
     "output_type": "stream",
     "text": [
      "V(8,8)\n",
      "<class 'str'>\n"
     ]
    }
   ],
   "source": [
    "print(v3)\n",
    "print(type(v3))"
   ]
  },
  {
   "cell_type": "code",
   "execution_count": 85,
   "metadata": {},
   "outputs": [
    {
     "ename": "TypeError",
     "evalue": "can only concatenate str (not \"Vector\") to str",
     "output_type": "error",
     "traceback": [
      "\u001b[1;31m---------------------------------------------------------------------------\u001b[0m",
      "\u001b[1;31mTypeError\u001b[0m                                 Traceback (most recent call last)",
      "\u001b[1;32m<ipython-input-85-2711b8b8d82e>\u001b[0m in \u001b[0;36m<module>\u001b[1;34m()\u001b[0m\n\u001b[1;32m----> 1\u001b[1;33m \u001b[0mv3\u001b[0m \u001b[1;33m+\u001b[0m \u001b[0mv1\u001b[0m\u001b[1;33m\u001b[0m\u001b[0m\n\u001b[0m",
      "\u001b[1;31mTypeError\u001b[0m: can only concatenate str (not \"Vector\") to str"
     ]
    }
   ],
   "source": [
    "v3 + v1"
   ]
  },
  {
   "cell_type": "code",
   "execution_count": 110,
   "metadata": {},
   "outputs": [],
   "source": [
    "class Vector : \n",
    "    def __init__(self,p=0,q=0) : \n",
    "        self.x = p\n",
    "        self.y = q\n",
    "    def __str__(self) : \n",
    "        return f\"V({self.x},{self.y})\"\n",
    "    def __repr__(self) : \n",
    "        return f\"V({self.x},{self.y})\"\n",
    "    def __add__(self,other):\n",
    "        x = self.x+other.x\n",
    "        y = self.y+other.y\n",
    "        return Vector(x,y)\n",
    "    def __sub__(self,other):\n",
    "        x = self.x - other.x\n",
    "        y = self.y - other.y \n",
    "        return Vector(x,y)\n",
    "    def __len__(self):\n",
    "        return 2"
   ]
  },
  {
   "cell_type": "code",
   "execution_count": 111,
   "metadata": {},
   "outputs": [
    {
     "name": "stdout",
     "output_type": "stream",
     "text": [
      "V(5,3)\n",
      "V(3,5)\n"
     ]
    }
   ],
   "source": [
    "v1 = Vector(5,3)\n",
    "v2 = Vector(3,5)\n",
    "print(v1)\n",
    "print(v2)"
   ]
  },
  {
   "cell_type": "code",
   "execution_count": 112,
   "metadata": {},
   "outputs": [
    {
     "name": "stdout",
     "output_type": "stream",
     "text": [
      "V(2,-2)\n",
      "<class '__main__.Vector'>\n",
      "V(8,8)\n"
     ]
    }
   ],
   "source": [
    "v3 = v1 + v2\n",
    "vx = v1 - v2\n",
    "print(vx)\n",
    "print(type(v3))\n",
    "print(v3)"
   ]
  },
  {
   "cell_type": "code",
   "execution_count": 113,
   "metadata": {},
   "outputs": [
    {
     "name": "stdout",
     "output_type": "stream",
     "text": [
      "V(16,16)\n"
     ]
    }
   ],
   "source": [
    "v4 = v1 + v2 + v3\n",
    "print(v4)"
   ]
  },
  {
   "cell_type": "code",
   "execution_count": 114,
   "metadata": {},
   "outputs": [
    {
     "data": {
      "text/plain": [
       "2"
      ]
     },
     "execution_count": 114,
     "metadata": {},
     "output_type": "execute_result"
    }
   ],
   "source": [
    "len(v1) #v1.__len__"
   ]
  },
  {
   "cell_type": "code",
   "execution_count": 135,
   "metadata": {},
   "outputs": [
    {
     "name": "stdout",
     "output_type": "stream",
     "text": [
      "Papa Bike name =  splendra\n",
      "Bachaa Bike name =  aaukat nh h abhi kharidne\n"
     ]
    }
   ],
   "source": [
    "class Papa :#parent\n",
    "    def __init__(self):\n",
    "        self.bike1 = 'splendra'\n",
    "    def Bike(self):\n",
    "        print(\"Papa Bike name = \",self.bike1)\n",
    "        \n",
    "class Bacha(Papa) : #child \n",
    "    def __init__(self):\n",
    "        #super().__init__()\n",
    "        Papa.__init__(self)\n",
    "        self.bike2 = 'aaukat nh h abhi kharidne'\n",
    "    def Bike(self):\n",
    "        Papa.Bike(self)\n",
    "        print(\"Bachaa Bike name = \",self.bike2)\n",
    "        \n",
    "child = Bacha()\n",
    "child.Bike()"
   ]
  },
  {
   "cell_type": "code",
   "execution_count": 127,
   "metadata": {},
   "outputs": [
    {
     "name": "stdout",
     "output_type": "stream",
     "text": [
      "Papa Bike name =  splendra\n",
      "Bachaa Bike name =  aaukat nh h abhi kharidne\n"
     ]
    }
   ],
   "source": [
    "p = Papa()\n",
    "p.Bike()\n",
    "p.bike = 'Harley Davidson'\n",
    "b = Bacha()\n",
    "b.Bike()"
   ]
  },
  {
   "cell_type": "code",
   "execution_count": 121,
   "metadata": {},
   "outputs": [
    {
     "name": "stdout",
     "output_type": "stream",
     "text": [
      "Bike name =  Harley Davidson\n"
     ]
    }
   ],
   "source": [
    "p.Bike()"
   ]
  },
  {
   "cell_type": "code",
   "execution_count": 9,
   "metadata": {},
   "outputs": [
    {
     "name": "stdout",
     "output_type": "stream",
     "text": [
      "V(3,5)\n",
      "V(6,7)\n",
      "6\n",
      "9\n"
     ]
    }
   ],
   "source": [
    "class Vector : \n",
    "    def __init__(self,x=0,y=0):\n",
    "        self.x = x\n",
    "        self.y = y \n",
    "    def __str__(self):\n",
    "        return f\"V({self.x},{self.y})\"\n",
    "    def __len__(self):\n",
    "        from math import sqrt\n",
    "        d1 = sqrt(self.x**2+self.y**2)\n",
    "        return round(d1)\n",
    "    def __add__(self,other):\n",
    "        return Vector(self.x+other.x,self.y+other.y)\n",
    "    def distance(self,other):\n",
    "        import math\n",
    "        d1 = math.sqrt(self.x**2+self.y**2)\n",
    "        d2 = math.sqrt(other.x**2+other.y**2)\n",
    "        return round( d1 + d2, 3)\n",
    "    \n",
    "v1 = Vector(3,5)\n",
    "v2 = Vector(6,7)\n",
    "print(v1)\n",
    "print(v2)\n",
    "print(len(v1))\n",
    "print(len(v2))"
   ]
  },
  {
   "cell_type": "code",
   "execution_count": 10,
   "metadata": {},
   "outputs": [
    {
     "data": {
      "text/plain": [
       "15.05"
      ]
     },
     "execution_count": 10,
     "metadata": {},
     "output_type": "execute_result"
    }
   ],
   "source": [
    "v1.distance(v2)"
   ]
  },
  {
   "cell_type": "code",
   "execution_count": 11,
   "metadata": {},
   "outputs": [
    {
     "name": "stdout",
     "output_type": "stream",
     "text": [
      "hello i am show of A\n",
      "You are in class B\n"
     ]
    }
   ],
   "source": [
    "#single level inheritance\n",
    "\n",
    "class A : \n",
    "    def show(self):\n",
    "        print(\"hello i am show of A\")\n",
    "class B(A) : \n",
    "    def display(self):\n",
    "        print(\"You are in class B\")\n",
    "        \n",
    "b1 = B()\n",
    "b1.show()\n",
    "b1.display()"
   ]
  },
  {
   "cell_type": "code",
   "execution_count": 12,
   "metadata": {},
   "outputs": [
    {
     "name": "stdout",
     "output_type": "stream",
     "text": [
      "Hello This is A.\n",
      "Hello This is B\n",
      "Hello This is C\n"
     ]
    }
   ],
   "source": [
    "#multi-level inheritance\n",
    "class A  : \n",
    "    def a(self):\n",
    "        print(\"Hello This is A.\")\n",
    "\n",
    "class B(A) : \n",
    "    def b(self):\n",
    "        print(\"Hello This is B\")\n",
    "        \n",
    "class C(B) : \n",
    "    def c(self) : \n",
    "        print(\"Hello This is C\")\n",
    "        \n",
    "c = C()\n",
    "c.a()\n",
    "c.b()\n",
    "c.c()"
   ]
  },
  {
   "cell_type": "code",
   "execution_count": 13,
   "metadata": {},
   "outputs": [
    {
     "name": "stdout",
     "output_type": "stream",
     "text": [
      "This common between B and C\n",
      "This common between B and C\n"
     ]
    }
   ],
   "source": [
    "#hierarical inheritance\n",
    "class A : \n",
    "    def common(self):\n",
    "        print(\"This common between B and C\")\n",
    "        \n",
    "class B(A):\n",
    "    pass\n",
    "class C(A):\n",
    "    pass\n",
    "\n",
    "b = B()\n",
    "c = C()\n",
    "b.common()\n",
    "c.common()"
   ]
  },
  {
   "cell_type": "code",
   "execution_count": 15,
   "metadata": {},
   "outputs": [
    {
     "name": "stdout",
     "output_type": "stream",
     "text": [
      "This is the Power of B\n",
      "HI This is A\n",
      "HI This is B\n"
     ]
    }
   ],
   "source": [
    "#multiple-inheritance  ----> Ambiguity\n",
    "class A : \n",
    "    def show(self):\n",
    "        print(\"This is the Power of A.\")\n",
    "    def disp(self):\n",
    "        print(\"HI This is A\")\n",
    "        \n",
    "class B : \n",
    "    def show(self):\n",
    "        print(\"This is the Power of B\")\n",
    "    def hi(self):\n",
    "        print(\"HI This is B\")\n",
    "        \n",
    "class C(B,A) : \n",
    "    pass\n",
    "\n",
    "c = C()\n",
    "c.show()\n",
    "c.disp()\n",
    "c.hi()"
   ]
  },
  {
   "cell_type": "code",
   "execution_count": 17,
   "metadata": {},
   "outputs": [
    {
     "name": "stdout",
     "output_type": "stream",
     "text": [
      "This is D.\n"
     ]
    }
   ],
   "source": [
    "class main : \n",
    "    pass\n",
    "class A(main) : \n",
    "    def show(self):\n",
    "        print(\"This is A.\")\n",
    "class B(main) : \n",
    "    def hi(self):\n",
    "        print(\"HI from B class\")\n",
    "class C(A):\n",
    "    def bye(self):\n",
    "        print(\"Bye bye form C\")\n",
    "class D(B) : \n",
    "    def show(self):\n",
    "        print(\"This is D.\")\n",
    "class E(D,C) : \n",
    "    pass\n",
    "e = E()\n",
    "e.show()"
   ]
  },
  {
   "cell_type": "code",
   "execution_count": 18,
   "metadata": {},
   "outputs": [
    {
     "ename": "TypeError",
     "evalue": "add() missing 1 required positional argument: 'y'",
     "output_type": "error",
     "traceback": [
      "\u001b[1;31m---------------------------------------------------------------------------\u001b[0m",
      "\u001b[1;31mTypeError\u001b[0m                                 Traceback (most recent call last)",
      "\u001b[1;32m<ipython-input-18-f1a82c112345>\u001b[0m in \u001b[0;36m<module>\u001b[1;34m()\u001b[0m\n\u001b[0;32m      6\u001b[0m     \u001b[1;32mreturn\u001b[0m \u001b[0mx\u001b[0m \u001b[1;33m+\u001b[0m \u001b[0my\u001b[0m\u001b[1;33m\u001b[0m\u001b[0m\n\u001b[0;32m      7\u001b[0m \u001b[1;33m\u001b[0m\u001b[0m\n\u001b[1;32m----> 8\u001b[1;33m \u001b[0mr1\u001b[0m \u001b[1;33m=\u001b[0m \u001b[0madd\u001b[0m\u001b[1;33m(\u001b[0m\u001b[1;36m5\u001b[0m\u001b[1;33m)\u001b[0m\u001b[1;33m\u001b[0m\u001b[0m\n\u001b[0m\u001b[0;32m      9\u001b[0m \u001b[0mr2\u001b[0m \u001b[1;33m=\u001b[0m \u001b[0madd\u001b[0m\u001b[1;33m(\u001b[0m\u001b[1;36m5\u001b[0m\u001b[1;33m,\u001b[0m\u001b[1;36m5\u001b[0m\u001b[1;33m)\u001b[0m\u001b[1;33m\u001b[0m\u001b[0m\n",
      "\u001b[1;31mTypeError\u001b[0m: add() missing 1 required positional argument: 'y'"
     ]
    }
   ],
   "source": [
    "#polymorphism ---> overloading\n",
    "#funcntion overloading\n",
    "def add(x):\n",
    "    return x*x\n",
    "def add(x,y):\n",
    "    return x + y\n",
    "\n",
    "r1 = add(5)\n",
    "r2 = add(5,5)"
   ]
  },
  {
   "cell_type": "code",
   "execution_count": 20,
   "metadata": {},
   "outputs": [],
   "source": [
    "def add(x,y=None) : \n",
    "    if y : \n",
    "        return x + y\n",
    "    else : \n",
    "        return x ** 2 "
   ]
  },
  {
   "cell_type": "code",
   "execution_count": 21,
   "metadata": {},
   "outputs": [
    {
     "data": {
      "text/plain": [
       "25"
      ]
     },
     "execution_count": 21,
     "metadata": {},
     "output_type": "execute_result"
    }
   ],
   "source": [
    "add(5)"
   ]
  },
  {
   "cell_type": "code",
   "execution_count": 22,
   "metadata": {},
   "outputs": [
    {
     "data": {
      "text/plain": [
       "10"
      ]
     },
     "execution_count": 22,
     "metadata": {},
     "output_type": "execute_result"
    }
   ],
   "source": [
    "add(5,5)"
   ]
  },
  {
   "cell_type": "code",
   "execution_count": 23,
   "metadata": {},
   "outputs": [],
   "source": [
    "class Shape : \n",
    "    #def __init__(self,*args) : \n",
    "     #   self.no_of_sides = len(args)\n",
    "      #  self.sides = args\n",
    "    def show(self,x,y=None,z=None):\n",
    "        if  y and z : \n",
    "            print(\"Triangle\")\n",
    "        elif y or z : \n",
    "            if x == y or x == z  : \n",
    "                print(\"Squre\")\n",
    "            else : \n",
    "                print(\"Rectangle\")\n",
    "        else  : \n",
    "            print(\"This is just Point\")\n",
    "        "
   ]
  },
  {
   "cell_type": "code",
   "execution_count": 24,
   "metadata": {},
   "outputs": [],
   "source": [
    "a = Shape()"
   ]
  },
  {
   "cell_type": "code",
   "execution_count": 25,
   "metadata": {},
   "outputs": [
    {
     "name": "stdout",
     "output_type": "stream",
     "text": [
      "This is just Point\n"
     ]
    }
   ],
   "source": [
    "a.show(1)"
   ]
  },
  {
   "cell_type": "code",
   "execution_count": 26,
   "metadata": {},
   "outputs": [
    {
     "name": "stdout",
     "output_type": "stream",
     "text": [
      "Squre\n"
     ]
    }
   ],
   "source": [
    "a.show(1,z=1)"
   ]
  },
  {
   "cell_type": "code",
   "execution_count": 27,
   "metadata": {},
   "outputs": [
    {
     "name": "stdout",
     "output_type": "stream",
     "text": [
      "Rectangle\n"
     ]
    }
   ],
   "source": [
    "a.show(5,6)"
   ]
  },
  {
   "cell_type": "code",
   "execution_count": 28,
   "metadata": {},
   "outputs": [
    {
     "name": "stdout",
     "output_type": "stream",
     "text": [
      "Triangle\n"
     ]
    }
   ],
   "source": [
    "a.show(1,2,3)"
   ]
  },
  {
   "cell_type": "code",
   "execution_count": 29,
   "metadata": {},
   "outputs": [],
   "source": [
    "#Over=riding\n",
    "class A : \n",
    "    def add(self):\n",
    "        print(\"I am only for time pass.\")\n",
    "        \n",
    "class B(A) : \n",
    "    def add(self,x,y):\n",
    "        print(\"x = \",x)\n",
    "        print(\"y = \",y)\n",
    "        print(\"x + y \",x + y )"
   ]
  },
  {
   "cell_type": "code",
   "execution_count": 31,
   "metadata": {},
   "outputs": [
    {
     "name": "stdout",
     "output_type": "stream",
     "text": [
      "x =  4\n",
      "y =  5\n",
      "x + y  9\n"
     ]
    },
    {
     "ename": "TypeError",
     "evalue": "add() missing 2 required positional arguments: 'x' and 'y'",
     "output_type": "error",
     "traceback": [
      "\u001b[1;31m---------------------------------------------------------------------------\u001b[0m",
      "\u001b[1;31mTypeError\u001b[0m                                 Traceback (most recent call last)",
      "\u001b[1;32m<ipython-input-31-9c9952a241bd>\u001b[0m in \u001b[0;36m<module>\u001b[1;34m()\u001b[0m\n\u001b[0;32m      1\u001b[0m \u001b[0mb\u001b[0m \u001b[1;33m=\u001b[0m \u001b[0mB\u001b[0m\u001b[1;33m(\u001b[0m\u001b[1;33m)\u001b[0m\u001b[1;33m\u001b[0m\u001b[0m\n\u001b[0;32m      2\u001b[0m \u001b[0mb\u001b[0m\u001b[1;33m.\u001b[0m\u001b[0madd\u001b[0m\u001b[1;33m(\u001b[0m\u001b[1;36m4\u001b[0m\u001b[1;33m,\u001b[0m\u001b[1;36m5\u001b[0m\u001b[1;33m)\u001b[0m\u001b[1;33m\u001b[0m\u001b[0m\n\u001b[1;32m----> 3\u001b[1;33m \u001b[0mb\u001b[0m\u001b[1;33m.\u001b[0m\u001b[0madd\u001b[0m\u001b[1;33m(\u001b[0m\u001b[1;33m)\u001b[0m\u001b[1;33m\u001b[0m\u001b[0m\n\u001b[0m",
      "\u001b[1;31mTypeError\u001b[0m: add() missing 2 required positional arguments: 'x' and 'y'"
     ]
    }
   ],
   "source": [
    "b = B()\n",
    "b.add(4,5) #this is overriding\n",
    "b.add()"
   ]
  },
  {
   "cell_type": "code",
   "execution_count": 32,
   "metadata": {},
   "outputs": [],
   "source": [
    "#DATA Hiding --> public, private, protected\n",
    "\n",
    "class A : \n",
    "    x = 'public' #public variable\n",
    "    _x = 'protected'\n",
    "    __x = 'private'\n",
    "    def show(self):\n",
    "        print(\"X = \",A.x)\n",
    "        print(\"_X = \",A._x)\n",
    "        print(\"__X = \",A.__x)\n",
    "    def change(self,x='public',y='protected',z='private') : \n",
    "        A.x = x\n",
    "        A._x = y \n",
    "        A.__x = z\n",
    "    def hawa(self):\n",
    "        print(\"Aap object k space m ho\")\n",
    "        print(\"X = \",self.x)\n",
    "        print(\"_X = \",self._x)\n",
    "        print(\"__X = \",self.__x)"
   ]
  },
  {
   "cell_type": "code",
   "execution_count": 34,
   "metadata": {},
   "outputs": [],
   "source": [
    "a = A()"
   ]
  },
  {
   "cell_type": "code",
   "execution_count": 36,
   "metadata": {},
   "outputs": [
    {
     "data": {
      "text/plain": [
       "'public'"
      ]
     },
     "execution_count": 36,
     "metadata": {},
     "output_type": "execute_result"
    }
   ],
   "source": [
    "A.x"
   ]
  },
  {
   "cell_type": "code",
   "execution_count": 37,
   "metadata": {},
   "outputs": [
    {
     "data": {
      "text/plain": [
       "'protected'"
      ]
     },
     "execution_count": 37,
     "metadata": {},
     "output_type": "execute_result"
    }
   ],
   "source": [
    "A._x"
   ]
  },
  {
   "cell_type": "code",
   "execution_count": 38,
   "metadata": {},
   "outputs": [
    {
     "ename": "AttributeError",
     "evalue": "type object 'A' has no attribute '__x'",
     "output_type": "error",
     "traceback": [
      "\u001b[1;31m---------------------------------------------------------------------------\u001b[0m",
      "\u001b[1;31mAttributeError\u001b[0m                            Traceback (most recent call last)",
      "\u001b[1;32m<ipython-input-38-a9b4208e0075>\u001b[0m in \u001b[0;36m<module>\u001b[1;34m()\u001b[0m\n\u001b[1;32m----> 1\u001b[1;33m \u001b[0mA\u001b[0m\u001b[1;33m.\u001b[0m\u001b[0m__x\u001b[0m\u001b[1;33m\u001b[0m\u001b[0m\n\u001b[0m",
      "\u001b[1;31mAttributeError\u001b[0m: type object 'A' has no attribute '__x'"
     ]
    }
   ],
   "source": [
    "A.__x"
   ]
  },
  {
   "cell_type": "code",
   "execution_count": 44,
   "metadata": {},
   "outputs": [
    {
     "ename": "TypeError",
     "evalue": "show() missing 1 required positional argument: 'self'",
     "output_type": "error",
     "traceback": [
      "\u001b[1;31m---------------------------------------------------------------------------\u001b[0m",
      "\u001b[1;31mTypeError\u001b[0m                                 Traceback (most recent call last)",
      "\u001b[1;32m<ipython-input-44-385a0fb3a97c>\u001b[0m in \u001b[0;36m<module>\u001b[1;34m()\u001b[0m\n\u001b[1;32m----> 1\u001b[1;33m \u001b[0mA\u001b[0m\u001b[1;33m.\u001b[0m\u001b[0mshow\u001b[0m\u001b[1;33m(\u001b[0m\u001b[1;33m)\u001b[0m\u001b[1;33m\u001b[0m\u001b[0m\n\u001b[0m",
      "\u001b[1;31mTypeError\u001b[0m: show() missing 1 required positional argument: 'self'"
     ]
    }
   ],
   "source": [
    "A.show()"
   ]
  },
  {
   "cell_type": "code",
   "execution_count": 40,
   "metadata": {},
   "outputs": [
    {
     "name": "stdout",
     "output_type": "stream",
     "text": [
      "X =  public\n",
      "_X =  protected\n",
      "__X =  private\n"
     ]
    }
   ],
   "source": [
    "a.show()"
   ]
  },
  {
   "cell_type": "code",
   "execution_count": 45,
   "metadata": {},
   "outputs": [],
   "source": [
    "A.x = 'hi'\n",
    "A._x = 'bye'\n",
    "A.__x = 'bye bye '"
   ]
  },
  {
   "cell_type": "code",
   "execution_count": 46,
   "metadata": {},
   "outputs": [
    {
     "name": "stdout",
     "output_type": "stream",
     "text": [
      "X =  hi\n",
      "_X =  bye\n",
      "__X =  private\n"
     ]
    }
   ],
   "source": [
    "a.show()"
   ]
  },
  {
   "cell_type": "code",
   "execution_count": 52,
   "metadata": {},
   "outputs": [
    {
     "name": "stdout",
     "output_type": "stream",
     "text": [
      "Aap object k space m ho\n",
      "X =  hi\n",
      "_X =  bye\n",
      "__X =  private\n"
     ]
    }
   ],
   "source": [
    "a.hawa()"
   ]
  },
  {
   "cell_type": "code",
   "execution_count": 48,
   "metadata": {},
   "outputs": [
    {
     "data": {
      "text/plain": [
       "mappingproxy({'__module__': '__main__',\n",
       "              'x': 'hi',\n",
       "              '_x': 'bye',\n",
       "              '_A__x': 'private',\n",
       "              'show': <function __main__.A.show(self)>,\n",
       "              'change': <function __main__.A.change(self, x='public', y='protected', z='private')>,\n",
       "              'hawa': <function __main__.A.hawa(self)>,\n",
       "              '__dict__': <attribute '__dict__' of 'A' objects>,\n",
       "              '__weakref__': <attribute '__weakref__' of 'A' objects>,\n",
       "              '__doc__': None,\n",
       "              '__x': 'bye bye '})"
      ]
     },
     "execution_count": 48,
     "metadata": {},
     "output_type": "execute_result"
    }
   ],
   "source": [
    "A.__dict__"
   ]
  },
  {
   "cell_type": "code",
   "execution_count": 51,
   "metadata": {},
   "outputs": [
    {
     "ename": "AttributeError",
     "evalue": "type object 'A' has no attribute '__x'",
     "output_type": "error",
     "traceback": [
      "\u001b[1;31m---------------------------------------------------------------------------\u001b[0m",
      "\u001b[1;31mAttributeError\u001b[0m                            Traceback (most recent call last)",
      "\u001b[1;32m<ipython-input-51-a9b4208e0075>\u001b[0m in \u001b[0;36m<module>\u001b[1;34m()\u001b[0m\n\u001b[1;32m----> 1\u001b[1;33m \u001b[0mA\u001b[0m\u001b[1;33m.\u001b[0m\u001b[0m__x\u001b[0m\u001b[1;33m\u001b[0m\u001b[0m\n\u001b[0m",
      "\u001b[1;31mAttributeError\u001b[0m: type object 'A' has no attribute '__x'"
     ]
    }
   ],
   "source": [
    "A.__x"
   ]
  },
  {
   "cell_type": "code",
   "execution_count": 50,
   "metadata": {},
   "outputs": [],
   "source": [
    "delattr(A,'__x')"
   ]
  },
  {
   "cell_type": "code",
   "execution_count": 53,
   "metadata": {},
   "outputs": [
    {
     "data": {
      "text/plain": [
       "'private'"
      ]
     },
     "execution_count": 53,
     "metadata": {},
     "output_type": "execute_result"
    }
   ],
   "source": [
    "# name mangling\n",
    "# __x --> _classname__x\n",
    "A._A__x"
   ]
  },
  {
   "cell_type": "code",
   "execution_count": 54,
   "metadata": {},
   "outputs": [],
   "source": [
    "A._A__x = 'no privacy'"
   ]
  },
  {
   "cell_type": "code",
   "execution_count": 55,
   "metadata": {},
   "outputs": [
    {
     "name": "stdout",
     "output_type": "stream",
     "text": [
      "X =  hi\n",
      "_X =  bye\n",
      "__X =  no privacy\n"
     ]
    }
   ],
   "source": [
    "a.show()"
   ]
  },
  {
   "cell_type": "code",
   "execution_count": 56,
   "metadata": {},
   "outputs": [],
   "source": [
    "setattr\n",
    "getattr\n",
    "issubclass\n",
    "isinstance\n",
    "#getter and setter method of class\n",
    "setattr(A,'x','hahahahahhahhahahahhaha')"
   ]
  },
  {
   "cell_type": "code",
   "execution_count": 57,
   "metadata": {},
   "outputs": [],
   "source": [
    "#without access specifier \n",
    "setattr(A,'hello',lambda name:f'hello {name}')"
   ]
  },
  {
   "cell_type": "code",
   "execution_count": 58,
   "metadata": {},
   "outputs": [
    {
     "data": {
      "text/plain": [
       "'hello sachin'"
      ]
     },
     "execution_count": 58,
     "metadata": {},
     "output_type": "execute_result"
    }
   ],
   "source": [
    "A.hello('sachin')"
   ]
  },
  {
   "cell_type": "code",
   "execution_count": null,
   "metadata": {},
   "outputs": [],
   "source": []
  }
 ],
 "metadata": {
  "kernelspec": {
   "display_name": "Python 3",
   "language": "python",
   "name": "python3"
  },
  "language_info": {
   "codemirror_mode": {
    "name": "ipython",
    "version": 3
   },
   "file_extension": ".py",
   "mimetype": "text/x-python",
   "name": "python",
   "nbconvert_exporter": "python",
   "pygments_lexer": "ipython3",
   "version": "3.7.0"
  }
 },
 "nbformat": 4,
 "nbformat_minor": 2
}
