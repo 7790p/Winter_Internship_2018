{
 "cells": [
  {
   "cell_type": "code",
   "execution_count": 1,
   "metadata": {},
   "outputs": [],
   "source": [
    "data = { 'name': [ 'ram','shyam','ghanshyam','hari','mohan'],\n",
    "        'bal' : [ 10000,25000,23000,23500,1230],\n",
    "        'password' : ['ram','hi','bye','hey','hi'],\n",
    "        'data' : { 'name' : 'python3',\n",
    "                     'type': 'json',\n",
    "                     'origin':'grras'},\n",
    "        'copyright' : 'grras solutions pvt. ltd.',\n",
    "        'readonly' : True,\n",
    "        'language' : ('java','python','c','c++')\n",
    "       }"
   ]
  },
  {
   "cell_type": "code",
   "execution_count": 3,
   "metadata": {},
   "outputs": [],
   "source": [
    "import json\n",
    "f = open('data.json','w')\n",
    "json.dump(data,f)\n",
    "f.close()"
   ]
  },
  {
   "cell_type": "code",
   "execution_count": null,
   "metadata": {},
   "outputs": [],
   "source": []
  }
 ],
 "metadata": {
  "kernelspec": {
   "display_name": "Python 3",
   "language": "python",
   "name": "python3"
  },
  "language_info": {
   "codemirror_mode": {
    "name": "ipython",
    "version": 3
   },
   "file_extension": ".py",
   "mimetype": "text/x-python",
   "name": "python",
   "nbconvert_exporter": "python",
   "pygments_lexer": "ipython3",
   "version": "3.7.0"
  }
 },
 "nbformat": 4,
 "nbformat_minor": 2
}
