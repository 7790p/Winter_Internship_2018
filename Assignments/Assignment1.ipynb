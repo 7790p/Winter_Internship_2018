{
 "cells": [
  {
   "cell_type": "markdown",
   "metadata": {},
   "source": [
    "<h1 style='color:#12345'>Assignment1</h1>\n",
    "<p style='color:red'>1. Which year was the updated versions of Python 2.0 and 3.0 released? </p>\n",
    "<li>a. 1990 and 1994</li> \n",
    "<li>b. 2000 and 2008 </li>\n",
    "<li>c. 1989 and 1990 </li>\n",
    "<li>d. 2001 and 2002  </li>"
   ]
  },
  {
   "cell_type": "markdown",
   "metadata": {},
   "source": [
    "<p style='color:red'>2. Print built-in function was introduced in version ?</p>\n",
    "<li>a. 2</li> \n",
    "<li>b. 1 </li>\n",
    "<li>c. 2.6 </li>\n",
    "<li>d. 3 </li>"
   ]
  },
  {
   "cell_type": "markdown",
   "metadata": {},
   "source": [
    "<p style='color:red'>3. What toolkit is used to code in IDLE?</p>\n",
    "<li>a. PHP text editor </li>\n",
    "<li>b. Soap toolkit </li>\n",
    "<li>c. Swing toolkit </li>\n",
    "<li>d. Tkinter GUI toolkit </li> "
   ]
  },
  {
   "cell_type": "markdown",
   "metadata": {},
   "source": [
    "<p style='color:red'>4. Which layer acts as a layer of logic between the hardware and the code? </p>\n",
    "<li>a. library modules</li> \n",
    "<li>b. binary files </li>\n",
    "<li>c. machine language </li>\n",
    "<li>d. Python interpreter </li>\n"
   ]
  },
  {
   "cell_type": "markdown",
   "metadata": {},
   "source": [
    "<p style='color:red'>5. What is the structure generated after the Python source code is compiled? </p>\n",
    "<li>a. .ini </li>\n",
    "<li>b. .pyc </li>\n",
    "<li>c. exe file </li>\n",
    "<li>d. .bin </li>"
   ]
  },
  {
   "cell_type": "markdown",
   "metadata": {},
   "source": [
    "<p style='color:red'>6. What does CPython and Jython represent?</p>  \n",
    "<li>a. They represent the successive versions of Python. </li>\n",
    "<li>b. They represent internal functions of Python. </li>\n",
    "<li>c. Implementations of Python </li>\n",
    "<li>d. They are the compilers of Python program.</li>  "
   ]
  },
  {
   "cell_type": "markdown",
   "metadata": {},
   "source": [
    "<p style='color:red'>7. What kind of executables generate a standalone binary executable?</p>  \n",
    "<li>a. Frozen binaries</li> \n",
    "<li>b. Pyhton.NET </li>\n",
    "<li>c. CPyhton </li>\n",
    "<li>d. byte codes </li>"
   ]
  },
  {
   "cell_type": "markdown",
   "metadata": {},
   "source": [
    "<p style='color:red'>8. What are environment variables?</p>"
   ]
  },
  {
   "cell_type": "markdown",
   "metadata": {},
   "source": [
    "<p style='color:red'>9. Why do we set path ?</p> "
   ]
  },
  {
   "cell_type": "markdown",
   "metadata": {},
   "source": [
    "<p style='color:red'>10. What is the default location of Python installation?</p> \n",
    "<li>a. C:\\</li> \n",
    "<li>b. D:\\ </li>\n",
    "<li>c. G:\\ </li>\n",
    "<li>d. E:\\  </li>\n",
    "\n",
    " "
   ]
  },
  {
   "cell_type": "markdown",
   "metadata": {},
   "source": [
    "<p style='color:red'>11. How do you go to the command line Pyhton interpreter?</p>  \n",
    "<li>a. From Start, select Pyhton 3.6 and click to open. </li>\n",
    "<li>b. Select the Python command line directly from the exe file.</li> \n",
    "<li>c. Type cmd Python from the command line in Windows. </li>\n",
    "<li>d. In Windows, select Python from the installed programs. </li>"
   ]
  },
  {
   "cell_type": "markdown",
   "metadata": {},
   "source": [
    "<p style='color:red'>12. Name few components of IDLE</p>  \n",
    "<li>a. Wordpad </li>\n",
    "<li>b. code editor, built-in automation</li> \n",
    "<li>c. Project tracker </li>\n",
    "<li>d. bug tracker</li>   "
   ]
  },
  {
   "cell_type": "markdown",
   "metadata": {},
   "source": [
    "<p style='color:red'>13. Name few of the features of IDLE</p>  \n",
    "<li>a. user interface window </li>\n",
    "<li>b. command line entries </li>\n",
    "<li>c. debugging and configuration</li> \n",
    "<li>d. built-in print option   </li>"
   ]
  },
  {
   "cell_type": "markdown",
   "metadata": {},
   "source": [
    "<p style='color:red'>14. Where is the output from running a saved Python file is displayed? </p>\n",
    "<li>a. Command prompt </li>\n",
    "<li>b. Browser </li>\n",
    "<li>c. Shell window </li>\n",
    "<li>d. Desktop   </li>"
   ]
  },
  {
   "cell_type": "markdown",
   "metadata": {},
   "source": [
    "<p style='color:red'>15. What are the two types of windows available in Python IDLE?</p>  \n",
    "<li>a. PHP and Microsoft </li>\n",
    "<li>b. Shell and Editor  </li>"
   ]
  },
  {
   "cell_type": "code",
   "execution_count": null,
   "metadata": {},
   "outputs": [],
   "source": []
  }
 ],
 "metadata": {
  "kernelspec": {
   "display_name": "Python 3",
   "language": "python",
   "name": "python3"
  },
  "language_info": {
   "codemirror_mode": {
    "name": "ipython",
    "version": 3
   },
   "file_extension": ".py",
   "mimetype": "text/x-python",
   "name": "python",
   "nbconvert_exporter": "python",
   "pygments_lexer": "ipython3",
   "version": "3.7.0"
  }
 },
 "nbformat": 4,
 "nbformat_minor": 2
}
