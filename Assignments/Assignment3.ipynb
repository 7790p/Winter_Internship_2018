{
 "cells": [
  {
   "cell_type": "markdown",
   "metadata": {},
   "source": [
    "<h1 style='color:red'>1. Suppose t = (1, 2, 4, 3), which of the following is incorrect ?</h1>\n",
    "<br />\n",
    "<li>a) print(t[3])</li>\n",
    "<li>b) t[3] = 45</li>\n",
    "<li>c) print(max(t))</li>\n",
    "<li>d) print(len(t))</li>"
   ]
  },
  {
   "cell_type": "markdown",
   "metadata": {},
   "source": [
    "<h1 style='color:red'>2.  What will be the output ?</h1>\n",
    "<br />\n",
    "<li>t = (1, 2)</li>\n",
    "<li>2 * t </li>"
   ]
  },
  {
   "cell_type": "markdown",
   "metadata": {},
   "source": [
    "<h1 style='color:red'>3. What will be the output ?</h1>\n",
    "<br />\n",
    "<li>t1 = (1, 2, 4, 3) </li>\n",
    "<li>t2 = (1, 2, 3, 4) </li>\n",
    "<li>t1 < t2 </li>"
   ]
  },
  {
   "cell_type": "markdown",
   "metadata": {},
   "source": [
    "<h1 style='color:red'>4. What is the output of the following piece of code when executed in Python shell ?</h1>\n",
    "<br />\n",
    "<p>a=(\"Check\")*3</p>\n",
    "<p>print(a)</p>\n",
    "<br />\n",
    "<li>a) (‘Check’,’Check’,’Check’)</li>\n",
    "<li>b) * Operator not valid for tuples</li>\n",
    "<li>c) (‘CheckCheckCheck’)</li>\n",
    "<li>d) Syntax error</li>"
   ]
  },
  {
   "cell_type": "markdown",
   "metadata": {},
   "source": [
    "<h1 style='color:red'>5. What is the output of the following code ?</h1>\n",
    "<br />\n",
    "<li>a=(2,3,4)</li>\n",
    "<li>print(sum(a,3)) </li>"
   ]
  },
  {
   "cell_type": "markdown",
   "metadata": {},
   "source": [
    "<h1 style='color:red'>6. \tWhat is the output of the following piece of code ?</h1>\n",
    "<br />\n",
    "<p>a = ('check',)<br />\n",
    "n = 2 <br />\n",
    "for i in range(0,n): <br />\n",
    "&nbsp;&nbsp;&nbsp;&nbsp;a = (a,)<br />\n",
    "&nbsp;&nbsp;&nbsp;&nbsp;print(a)<br />\n",
    "</p>\n",
    "\n",
    "<p>\n",
    "a)\tError, tuples are immutable <br />\n",
    "b)\t((‘check’,),)   <br />\n",
    "(((‘check’,),),).   <br />\n",
    "c)\t((‘check’,)’check’,) <br />\n",
    "d)\t((‘check’,)’check’,) <br />\n",
    "(((‘check’,)’check’,)’check’,) <br />\n",
    " </p>"
   ]
  },
  {
   "cell_type": "markdown",
   "metadata": {},
   "source": [
    "<h1 style='color:red'>7. Suppose list1 is [2, 33, 222, 14, 25], What is list1[:-1] ?</h1>"
   ]
  },
  {
   "cell_type": "markdown",
   "metadata": {},
   "source": [
    "<h1 style='color:red'>8. What is the output ?</h1>\n",
    "<br />\n",
    "<p>names1 = ['Amir', 'Bear', 'Charlton', 'Daman'] <br />\n",
    "names2 = names1 <br />\n",
    "names3 = names1[:] <br />\n",
    " \n",
    "names2[0] = 'Alice' <br />\n",
    "names3[1] = 'Bob' <br />\n",
    "</p>\n",
    "\n",
    "<p>sum = 0 </p>\n",
    "<p>for ls in (names1, names2, names3) : <br />\n",
    "&nbsp;&nbsp;&nbsp;&nbsp;if ls[0] == 'Alice': <br />\n",
    "&nbsp;&nbsp;&nbsp;&nbsp;&nbsp;&nbsp;&nbsp;&nbsp;sum += 1 <br />\n",
    "&nbsp;&nbsp;&nbsp;&nbsp;if ls[1] == 'Bob': <br />\n",
    "&nbsp;&nbsp;&nbsp;&nbsp;&nbsp;&nbsp;&nbsp;&nbsp;sum += 10 <br />\n",
    " <br /> <br />\n",
    "<p>print(sum)</p>"
   ]
  },
  {
   "cell_type": "markdown",
   "metadata": {},
   "source": [
    "<h1 style='color:red'>9. What is the output when following code is executed ?</h1>\n",
    "<br />\n",
    "<li>list1 = [11, 2, 23] </li>\n",
    "<li>list2 = [11, 2, 2] </li>\n",
    "<li>list1 < list2 is </li>"
   ]
  },
  {
   "cell_type": "markdown",
   "metadata": {},
   "source": [
    "<h1 style='color:red'>10. What is the output ?</h1>\n",
    "<br />\n",
    "<li>n_list = [\"Happy\", [2,0,1,5]] </li>\n",
    "\n",
    "<li>print(n_list[0][1])    </li>\n",
    "\n",
    "<li>print(n_list[1][3]) </li>"
   ]
  },
  {
   "cell_type": "markdown",
   "metadata": {},
   "source": [
    "<h1 style='color:red'>11.  What is the output when the following code is executed ?</h1>\n",
    "<br />\n",
    "<p>\"Welcome to Python\".split()</p><br />\n",
    "\n",
    "<li>a) [“Welcome”, “to”, “Python”].</li>\n",
    "<li>b) (“Welcome”, “to”, “Python”) </li>\n",
    "<li>c) {“Welcome”, “to”, “Python”} </li>\n",
    "<li>d) “Welcome”, “to”, “Python” </li>"
   ]
  },
  {
   "cell_type": "markdown",
   "metadata": {},
   "source": [
    "<h1 style='color:red'>12. Print the output of the following code ?</h1>\n",
    "<br />\n",
    "<li>myList = [1, 5, 5, 5, 5, 1]\n",
    "<li>max = myList[0]\n",
    "<li>indexOfMax = 0\n",
    "<li>for i in range(1, len(myList)):<br />\n",
    " &nbsp;&nbsp;&nbsp;&nbsp;&nbsp;&nbsp;if myList[i] > max: <br />\n",
    " &nbsp;&nbsp;&nbsp;&nbsp;&nbsp;&nbsp;&nbsp;&nbsp;max = myList[i] <br />\n",
    " &nbsp;&nbsp;&nbsp;&nbsp;&nbsp;&nbsp;&nbsp;&nbsp;indexOfMax = i <br />\n",
    " \n",
    "print(indexOfMax)"
   ]
  },
  {
   "cell_type": "markdown",
   "metadata": {},
   "source": [
    "<h1 style='color:red'>13. What will be the output ?</h1>\n",
    "<br />\n",
    "<p>m\n",
    "numbers = [1, 2, 3, 4] <br />\n",
    " \n",
    "numbers.append([5,6,7,8]) <br />\n",
    " \n",
    "print(len(numbers))  <br />"
   ]
  },
  {
   "cell_type": "markdown",
   "metadata": {},
   "source": [
    "<h1 style='color:red'>14. . Which of the following statements create a dictionary ?</h1>\n",
    "<br /> <p>\n",
    "a) d = {} <br />\n",
    "b) d = {“john”:40, “peter”:45} <br />\n",
    "c) d = {40:”john”, 45:”peter”} <br />\n",
    "d) All of the mentioned <br />\n",
    "</p>"
   ]
  },
  {
   "cell_type": "markdown",
   "metadata": {},
   "source": [
    "<h1 style='color:red'>15.  What will be the output ?</h1>\n",
    "<p>\n",
    "d1 = {\"john\":40, \"peter\":45} <br />\n",
    "d2 = {\"john\":466, \"peter\":45} <br />\n",
    "d1 == d2 <br />\n",
    "</p>"
   ]
  },
  {
   "cell_type": "markdown",
   "metadata": {},
   "source": [
    "<h1 style='color:red'>16. What is the output of the following piece of code ?</h1>\n",
    "<br /><p>\n",
    "a={1:\"A\",2:\"B\",3:\"C\"} <br />\n",
    "print(a.get(1,4))   <br />\n",
    "</p>"
   ]
  },
  {
   "cell_type": "markdown",
   "metadata": {},
   "source": [
    "<h1 style='color:red'>17. What is the output of the following code ?</h1>\n",
    "<p> <br />\n",
    "a={1:\"A\",2:\"B\",3:\"C\"} <br />\n",
    "b={4:\"D\",5:\"E\"} <br />\n",
    "a.update(b) <br />\n",
    "print(a) <br />\n",
    "</p>"
   ]
  },
  {
   "cell_type": "markdown",
   "metadata": {},
   "source": [
    "<h1 style='color:red'>18. What is the output of the following piece of code when executed in the python shell ?</h1>\n",
    "<p> <br />\n",
    "a={5,4} <br />\n",
    "b={1,2,4,5} <br />\n",
    "a<br />\n",
    "</p>"
   ]
  },
  {
   "cell_type": "markdown",
   "metadata": {},
   "source": [
    "<h1 style='color:red'>19. If a={5,6,7}, what happens when a.add(5) is executed ?</h1>\n",
    "<p> <br />\n",
    "a)\ta={5,5,6,7} <br />\n",
    "b)\ta={5,6,7}   <br />\n",
    "c)\tError as there is no add function for set data type <br />\n",
    "d)\tError as 5 already exists in the set <br />\n",
    "</p>"
   ]
  },
  {
   "cell_type": "markdown",
   "metadata": {},
   "source": [
    "<h1 style='color:red'>20. Is the following piece of code valid ?</h1>\n",
    "<p> <br />\n",
    "a={3,4,{7,5}} <br />\n",
    "print(a[2][0]) <br />\n",
    "</p>\n",
    "<br />\n",
    "<p>\n",
    "a)\tYes, 7 is printed <br />\n",
    "b)\tError, elements of a set can’t be printed <br />\n",
    "c)\tError, subsets aren’t allowed <br />\n",
    "d)\tYes, {7,5} is printed <br />\n",
    "</p>"
   ]
  },
  {
   "cell_type": "markdown",
   "metadata": {},
   "source": [
    "<h1 style='color:red'>21. What is the difference between copy.copy() and copy.deepcopy() ?</h1>"
   ]
  },
  {
   "cell_type": "markdown",
   "metadata": {},
   "source": [
    "<h1 style='color:red'>22. What happens if you try to access spam['foo'] if spam is {'bar': 100} ?</h1>"
   ]
  },
  {
   "cell_type": "code",
   "execution_count": null,
   "metadata": {},
   "outputs": [],
   "source": []
  }
 ],
 "metadata": {
  "kernelspec": {
   "display_name": "Python 3",
   "language": "python",
   "name": "python3"
  },
  "language_info": {
   "codemirror_mode": {
    "name": "ipython",
    "version": 3
   },
   "file_extension": ".py",
   "mimetype": "text/x-python",
   "name": "python",
   "nbconvert_exporter": "python",
   "pygments_lexer": "ipython3",
   "version": "3.7.0"
  }
 },
 "nbformat": 4,
 "nbformat_minor": 2
}
