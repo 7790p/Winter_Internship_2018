{
 "cells": [
  {
   "cell_type": "markdown",
   "metadata": {},
   "source": [
    "<h1 style='color:red'>1. Which three functions can be used to get the integer, floating-point number, or string version of a value?\n",
    "</h1>"
   ]
  },
  {
   "cell_type": "markdown",
   "metadata": {},
   "source": [
    "<h1 style='color:red'>2. what is the output of the following code?</h1> "
   ]
  },
  {
   "cell_type": "markdown",
   "metadata": {},
   "source": [
    "<p>\n",
    "a = 5\n",
    "<br /><br />\n",
    "print(type(a))\n",
    "<br /> \n",
    "print(type(5.0))\n",
    "<br /><br />\n",
    "c = 5 + 3j\n",
    "<br />\n",
    "print(c + 3)\n",
    "</p>"
   ]
  },
  {
   "cell_type": "markdown",
   "metadata": {},
   "source": [
    "<h1 style='color:red'>3. From the options, choose the binary literal.</h1>  \n",
    "<p>a. 0B01011 </p>\n",
    "<p>b. 0o10 </p>\n",
    "<p>c. 0xA </p>\n",
    "<p>d. 0  </p>"
   ]
  },
  {
   "cell_type": "markdown",
   "metadata": {},
   "source": [
    "<h1 style='color:red'>4.What is the output of this code ?</h1>\n",
    "<p>\n",
    "print(0b1101011)\n",
    "<br /><br />\n",
    "print(0xFB + 0b10)\n",
    "<br /><br />\n",
    "print(0o15)\n",
    "</p>"
   ]
  },
  {
   "cell_type": "markdown",
   "metadata": {},
   "source": [
    "<h1 style='color:red'>5. Which of the following is a variable, and which is a string ?</h1>\n",
    "<p>a. spam</p>\n",
    "<p>b. 'spam'</p>\n"
   ]
  },
  {
   "cell_type": "markdown",
   "metadata": {},
   "source": [
    "<h1 style='color:red'>6. What is the difference between an expression and a statement ?</h1>"
   ]
  },
  {
   "cell_type": "markdown",
   "metadata": {},
   "source": [
    "<h1 style='color:red'>7. What is the output of \"a\"+\"bc\"</h1>"
   ]
  },
  {
   "cell_type": "markdown",
   "metadata": {},
   "source": [
    "<h1 style='color:red'>8. Print the output of following ??</h1>\n",
    " <p>\n",
    " str1 = 'hello'\n",
    " <br/>\n",
    " str2 = ','\n",
    " <br/>\n",
    " str3 = 'world\n",
    " <br /><br />\n",
    " str1 = str1 + str2 + str3\n",
    " <br /><br />\n",
    " print(str1[-1:])"
   ]
  },
  {
   "cell_type": "markdown",
   "metadata": {},
   "source": [
    "<h1 style='color:red'>9. What is the output of this code ?</h1>\n",
    "<p>var1 = 'Hello World!'</p>\n",
    "<p>print (\"Updated String :- \", var1[:6] + 'Python')</p>"
   ]
  },
  {
   "cell_type": "markdown",
   "metadata": {},
   "source": [
    "<h1 style='color:red'>10. What is the output ?</h1>\n",
    "<p>\n",
    "var1 = 'Hello World!'\n",
    "<br />\n",
    "var2 = \"Python Programming\"\n",
    "</p>\n",
    "<p>\n",
    "print \"var1[0]: \", var1[0]\n",
    "    <br />\n",
    "print \"var2[1:5]: \", var2[1:5]\n",
    "</p>"
   ]
  },
  {
   "cell_type": "markdown",
   "metadata": {},
   "source": [
    "<h1 style='color:red'>11.  What is the output when following statement is executed ?</h1>\n",
    "<p>print(‘x\\97\\x98’)</p>\n",
    "\n",
    "<li>a. Error</li>\n",
    "<li>b. 97</li>\n",
    "<li>98</li>\n",
    "<li>c. x\\97</li>\n",
    "<li>d. \\x97\\x98</li>"
   ]
  },
  {
   "cell_type": "markdown",
   "metadata": {},
   "source": [
    "<h1 style='color:red'>12. What is the output of code ?</h1>\n",
    "<p>example = \"helle\"</p>\n",
    "<p>print(example.rfind(\"e\"))</p>"
   ]
  },
  {
   "cell_type": "markdown",
   "metadata": {},
   "source": [
    "<h1 style='color:red'>13. Output of code ?</h1>\n",
    "<p>example=\"helloworld\"</p>\n",
    "<p>example[::-1].startswith(\"d\")</p>\n",
    "\n",
    "<li>a. dlrowolleh</li>\n",
    "<li>b. True</li>\n",
    "<li>c. -1</li>\n",
    "<li>d. None</li>"
   ]
  },
  {
   "cell_type": "markdown",
   "metadata": {},
   "source": [
    "<h1 style='color:red'>14. What is the output of “hello”+1+2+3 ?</h1>\n",
    "<br />\n",
    "<li>a. hello123</li>\n",
    "<li>b. hello</li>\n",
    "<li>c. Error</li>\n",
    "<li>d. hello6</li>"
   ]
  },
  {
   "cell_type": "markdown",
   "metadata": {},
   "source": [
    "<h1 style='color:red'>15.  Which of the following statement prints hello\\example\\test.txt ?</h1>\n",
    "<br />\n",
    "<li>a. print(“hello\\example\\test.txt”)</li>\n",
    "<li>b. print(“hello\\\\example\\\\test.txt”)</li>\n",
    "<li>c. print(“hello\\”example\\”test.txt”)</li>\n",
    "<li>d. print(“hello”\\example”\\test.txt”)</li>"
   ]
  },
  {
   "cell_type": "markdown",
   "metadata": {},
   "source": [
    "<h1 style='color:red'>16.To retrieve the character at index 3 from string s=”Hello” what command do we execute ?</h1>\n",
    "<br />\n",
    "<li>a. s[].</li>\n",
    "<li>b. s.getitem(3)</li>\n",
    "<li>c. s.__getitem__(3)</li>\n",
    "<li>d. s.getItem(3)</li>"
   ]
  },
  {
   "cell_type": "markdown",
   "metadata": {},
   "source": [
    "<h1 style='color:red'>17.  What is the output of the following ?</h1>\n",
    "\n",
    "<p>print(\"xyyzxyzxzxyy\".count('yy'))</p>"
   ]
  },
  {
   "cell_type": "markdown",
   "metadata": {},
   "source": [
    "<h1 style='color:red'>18.  What is the output of the following ?</h1>\n",
    "\n",
    "<p>print('abc'.encode())</p>"
   ]
  },
  {
   "cell_type": "markdown",
   "metadata": {},
   "source": [
    "<h1 style='color:red'>19. What is the output ?</h1>\n",
    "<br />\n",
    "<p>str1 = 'Hello'</p>\n",
    "<p>str2 ='World!'</p>\n",
    "\n",
    "<p>print('str1 * 3 =', str1 * 3)</p>\n"
   ]
  },
  {
   "cell_type": "markdown",
   "metadata": {},
   "source": [
    "<h1 style='color:red'>20. What is the output for the following statements ?</h1>\n",
    "<p>\n",
    "1. print('for'.isidentifier()) <br />\n",
    "2. print('a@ 1,'.islower()) <br />\n",
    "3. print('11'.isnumeric()) <br />\n",
    "4. print('1@ a'.isprintable()) <br />\n",
    "5. print('1.1'.isnumeric()) <br />\n",
    "</p>\n",
    "\n",
    "<p> a. True  </p>\n",
    "<p> b. False </p>\n",
    "<p> c. None  </p>\n",
    "<p> d. Error </p>"
   ]
  },
  {
   "cell_type": "code",
   "execution_count": null,
   "metadata": {
    "collapsed": true
   },
   "outputs": [],
   "source": []
  }
 ],
 "metadata": {
  "kernelspec": {
   "display_name": "Python 3",
   "language": "python",
   "name": "python3"
  },
  "language_info": {
   "codemirror_mode": {
    "name": "ipython",
    "version": 3
   },
   "file_extension": ".py",
   "mimetype": "text/x-python",
   "name": "python",
   "nbconvert_exporter": "python",
   "pygments_lexer": "ipython3",
   "version": "3.7.0"
  }
 },
 "nbformat": 4,
 "nbformat_minor": 2
}
