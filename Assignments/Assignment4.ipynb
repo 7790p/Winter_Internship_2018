{
 "cells": [
  {
   "cell_type": "markdown",
   "metadata": {},
   "source": [
    "<h1 style='color:red'>1. What are escape characters ?</h1>"
   ]
  },
  {
   "cell_type": "markdown",
   "metadata": {},
   "source": [
    "<h1 style='color:red'>2. What do the \\n and \\t escape characters represent ?</h1>"
   ]
  },
  {
   "cell_type": "markdown",
   "metadata": {},
   "source": [
    "<h1 style='color:red'>3. How can you put a \\ backslash character in a string ?</h1>"
   ]
  },
  {
   "cell_type": "markdown",
   "metadata": {},
   "source": [
    "<h1 style='color:red'>4. What is the output ?</h1> \n",
    "<p>print(\"Mayank\\'s Father is calling me\")</p>"
   ]
  },
  {
   "cell_type": "markdown",
   "metadata": {},
   "source": [
    "<h1 style='color:red'>5. What is the order of precedence in python ?</h1>\n",
    "<p> <br />\n",
    "i) Parentheses <br />\n",
    "ii) Exponential <br />\n",
    "iii) Multiplication <br />\n",
    "iv) Division <br />\n",
    "v) Addition <br />\n",
    "vi) Subtraction br />\n",
    "</p>\n",
    "<p><br />\n",
    "a) i,ii,iii,iv,v,vi <br />\n",
    "b) ii,i,iii,iv,v,vi <br />\n",
    "c) ii,i,iv,iii,v,vi <br />\n",
    "d) i,ii,iii,iv,vi,v <br />\n",
    "</p>"
   ]
  },
  {
   "cell_type": "markdown",
   "metadata": {},
   "source": [
    "<h1 style='color:red'>6. Which one of the following have the same precedence ?</h1>\n",
    "<br />\n",
    "<p>\n",
    "a) Addition and Subtraction <br />\n",
    "b) Multiplication and Division <br />\n",
    "c) Both Addition and Subtraction AND Multiplication and Division <br />\n",
    "d) None of the mentioned <br />\n",
    "</p>"
   ]
  },
  {
   "cell_type": "markdown",
   "metadata": {},
   "source": [
    "<h1 style='color:red'>7. What is the output ?</h1>\n",
    "<p>print(3**2*5-10%3)</p>"
   ]
  },
  {
   "cell_type": "markdown",
   "metadata": {},
   "source": [
    "<h1 style='color:red'>8. What is the output ?</h1>\n",
    "<br />\n",
    "<p>\n",
    "a,b,c,d = 3,4,5,8 <br />\n",
    "print(a**(b+c)) <br />\n",
    "print(a*b**c) <br />\n",
    "print(a + b * c / d) <br />\n",
    "</p>"
   ]
  },
  {
   "cell_type": "markdown",
   "metadata": {},
   "source": [
    "<h1 style='color:red'>9. How can we convert the following dictionary into tuple ?</h1>\n",
    "<br />\n",
    "<p>d = {'a': 1, 'f': 2, 'g': 3} </p>"
   ]
  },
  {
   "cell_type": "markdown",
   "metadata": {},
   "source": [
    "<h1 style='color:red'>10. What is the output when the following code tuple is converted into dictionary ?</h1>\n",
    " <br />\n",
    "<p>t = (('hello', 'hi'),('bye','bubye'),('hey','hi')) </p>"
   ]
  },
  {
   "cell_type": "markdown",
   "metadata": {},
   "source": [
    "<h1 style='color:red'>11. Write a Python program to check whether a character is alphabet or not ? </h1>"
   ]
  },
  {
   "cell_type": "markdown",
   "metadata": {},
   "source": [
    "<h1 style='color:red'>12. Which operator can be used for list concatenation ?</h1> "
   ]
  }
 ],
 "metadata": {
  "kernelspec": {
   "display_name": "Python 3",
   "language": "python",
   "name": "python3"
  },
  "language_info": {
   "codemirror_mode": {
    "name": "ipython",
    "version": 3
   },
   "file_extension": ".py",
   "mimetype": "text/x-python",
   "name": "python",
   "nbconvert_exporter": "python",
   "pygments_lexer": "ipython3",
   "version": "3.7.0"
  }
 },
 "nbformat": 4,
 "nbformat_minor": 2
}
