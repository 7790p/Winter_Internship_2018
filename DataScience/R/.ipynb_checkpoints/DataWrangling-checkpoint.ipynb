{
 "cells": [
  {
   "cell_type": "code",
   "execution_count": 3,
   "metadata": {},
   "outputs": [],
   "source": [
    "#cbind and rbind\n",
    "df = data.frame(name=c(\"a\",\"b\",\"c\",\"d\",\"e\"),\n",
    "                sex=c(\"M\",\"F\",\"F\",\"M\",\"O\"),\n",
    "                id=c(1,2,3,4,5)\n",
    "               )"
   ]
  },
  {
   "cell_type": "code",
   "execution_count": 4,
   "metadata": {},
   "outputs": [
    {
     "data": {
      "text/html": [
       "<table>\n",
       "<thead><tr><th scope=col>name</th><th scope=col>sex</th><th scope=col>id</th></tr></thead>\n",
       "<tbody>\n",
       "\t<tr><td>a</td><td>M</td><td>1</td></tr>\n",
       "\t<tr><td>b</td><td>F</td><td>2</td></tr>\n",
       "\t<tr><td>c</td><td>F</td><td>3</td></tr>\n",
       "\t<tr><td>d</td><td>M</td><td>4</td></tr>\n",
       "\t<tr><td>e</td><td>O</td><td>5</td></tr>\n",
       "</tbody>\n",
       "</table>\n"
      ],
      "text/latex": [
       "\\begin{tabular}{r|lll}\n",
       " name & sex & id\\\\\n",
       "\\hline\n",
       "\t a & M & 1\\\\\n",
       "\t b & F & 2\\\\\n",
       "\t c & F & 3\\\\\n",
       "\t d & M & 4\\\\\n",
       "\t e & O & 5\\\\\n",
       "\\end{tabular}\n"
      ],
      "text/markdown": [
       "\n",
       "name | sex | id | \n",
       "|---|---|---|---|---|\n",
       "| a | M | 1 | \n",
       "| b | F | 2 | \n",
       "| c | F | 3 | \n",
       "| d | M | 4 | \n",
       "| e | O | 5 | \n",
       "\n",
       "\n"
      ],
      "text/plain": [
       "  name sex id\n",
       "1 a    M   1 \n",
       "2 b    F   2 \n",
       "3 c    F   3 \n",
       "4 d    M   4 \n",
       "5 e    O   5 "
      ]
     },
     "metadata": {},
     "output_type": "display_data"
    }
   ],
   "source": [
    "df"
   ]
  },
  {
   "cell_type": "code",
   "execution_count": 5,
   "metadata": {},
   "outputs": [],
   "source": [
    "age = c(18,24,23,18,19)"
   ]
  },
  {
   "cell_type": "code",
   "execution_count": 6,
   "metadata": {},
   "outputs": [
    {
     "data": {
      "text/html": [
       "<ol class=list-inline>\n",
       "\t<li>18</li>\n",
       "\t<li>24</li>\n",
       "\t<li>23</li>\n",
       "\t<li>18</li>\n",
       "\t<li>19</li>\n",
       "</ol>\n"
      ],
      "text/latex": [
       "\\begin{enumerate*}\n",
       "\\item 18\n",
       "\\item 24\n",
       "\\item 23\n",
       "\\item 18\n",
       "\\item 19\n",
       "\\end{enumerate*}\n"
      ],
      "text/markdown": [
       "1. 18\n",
       "2. 24\n",
       "3. 23\n",
       "4. 18\n",
       "5. 19\n",
       "\n",
       "\n"
      ],
      "text/plain": [
       "[1] 18 24 23 18 19"
      ]
     },
     "metadata": {},
     "output_type": "display_data"
    }
   ],
   "source": [
    "age"
   ]
  },
  {
   "cell_type": "code",
   "execution_count": 7,
   "metadata": {},
   "outputs": [
    {
     "data": {
      "text/html": [
       "<table>\n",
       "<thead><tr><th scope=col>name</th><th scope=col>sex</th><th scope=col>id</th></tr></thead>\n",
       "<tbody>\n",
       "\t<tr><td>a</td><td>M</td><td>1</td></tr>\n",
       "\t<tr><td>b</td><td>F</td><td>2</td></tr>\n",
       "\t<tr><td>c</td><td>F</td><td>3</td></tr>\n",
       "\t<tr><td>d</td><td>M</td><td>4</td></tr>\n",
       "\t<tr><td>e</td><td>O</td><td>5</td></tr>\n",
       "</tbody>\n",
       "</table>\n"
      ],
      "text/latex": [
       "\\begin{tabular}{r|lll}\n",
       " name & sex & id\\\\\n",
       "\\hline\n",
       "\t a & M & 1\\\\\n",
       "\t b & F & 2\\\\\n",
       "\t c & F & 3\\\\\n",
       "\t d & M & 4\\\\\n",
       "\t e & O & 5\\\\\n",
       "\\end{tabular}\n"
      ],
      "text/markdown": [
       "\n",
       "name | sex | id | \n",
       "|---|---|---|---|---|\n",
       "| a | M | 1 | \n",
       "| b | F | 2 | \n",
       "| c | F | 3 | \n",
       "| d | M | 4 | \n",
       "| e | O | 5 | \n",
       "\n",
       "\n"
      ],
      "text/plain": [
       "  name sex id\n",
       "1 a    M   1 \n",
       "2 b    F   2 \n",
       "3 c    F   3 \n",
       "4 d    M   4 \n",
       "5 e    O   5 "
      ]
     },
     "metadata": {},
     "output_type": "display_data"
    }
   ],
   "source": [
    "df"
   ]
  },
  {
   "cell_type": "code",
   "execution_count": 8,
   "metadata": {},
   "outputs": [],
   "source": [
    "df1 = cbind(df,age)"
   ]
  },
  {
   "cell_type": "code",
   "execution_count": 9,
   "metadata": {},
   "outputs": [
    {
     "data": {
      "text/html": [
       "<table>\n",
       "<thead><tr><th scope=col>name</th><th scope=col>sex</th><th scope=col>id</th><th scope=col>age</th></tr></thead>\n",
       "<tbody>\n",
       "\t<tr><td>a </td><td>M </td><td>1 </td><td>18</td></tr>\n",
       "\t<tr><td>b </td><td>F </td><td>2 </td><td>24</td></tr>\n",
       "\t<tr><td>c </td><td>F </td><td>3 </td><td>23</td></tr>\n",
       "\t<tr><td>d </td><td>M </td><td>4 </td><td>18</td></tr>\n",
       "\t<tr><td>e </td><td>O </td><td>5 </td><td>19</td></tr>\n",
       "</tbody>\n",
       "</table>\n"
      ],
      "text/latex": [
       "\\begin{tabular}{r|llll}\n",
       " name & sex & id & age\\\\\n",
       "\\hline\n",
       "\t a  & M  & 1  & 18\\\\\n",
       "\t b  & F  & 2  & 24\\\\\n",
       "\t c  & F  & 3  & 23\\\\\n",
       "\t d  & M  & 4  & 18\\\\\n",
       "\t e  & O  & 5  & 19\\\\\n",
       "\\end{tabular}\n"
      ],
      "text/markdown": [
       "\n",
       "name | sex | id | age | \n",
       "|---|---|---|---|---|\n",
       "| a  | M  | 1  | 18 | \n",
       "| b  | F  | 2  | 24 | \n",
       "| c  | F  | 3  | 23 | \n",
       "| d  | M  | 4  | 18 | \n",
       "| e  | O  | 5  | 19 | \n",
       "\n",
       "\n"
      ],
      "text/plain": [
       "  name sex id age\n",
       "1 a    M   1  18 \n",
       "2 b    F   2  24 \n",
       "3 c    F   3  23 \n",
       "4 d    M   4  18 \n",
       "5 e    O   5  19 "
      ]
     },
     "metadata": {},
     "output_type": "display_data"
    }
   ],
   "source": [
    "df1"
   ]
  },
  {
   "cell_type": "code",
   "execution_count": 10,
   "metadata": {},
   "outputs": [],
   "source": [
    "df2 = data.frame(name=c(\"x\",\"y\",\"Z\"),sex=c(\"M\",\"F\",\"F\"),\n",
    "                id=c(1,2,3),age=c(18,19,20))"
   ]
  },
  {
   "cell_type": "code",
   "execution_count": 11,
   "metadata": {},
   "outputs": [
    {
     "data": {
      "text/html": [
       "<table>\n",
       "<thead><tr><th scope=col>name</th><th scope=col>sex</th><th scope=col>id</th><th scope=col>age</th></tr></thead>\n",
       "<tbody>\n",
       "\t<tr><td>a </td><td>M </td><td>1 </td><td>18</td></tr>\n",
       "\t<tr><td>b </td><td>F </td><td>2 </td><td>24</td></tr>\n",
       "\t<tr><td>c </td><td>F </td><td>3 </td><td>23</td></tr>\n",
       "\t<tr><td>d </td><td>M </td><td>4 </td><td>18</td></tr>\n",
       "\t<tr><td>e </td><td>O </td><td>5 </td><td>19</td></tr>\n",
       "</tbody>\n",
       "</table>\n"
      ],
      "text/latex": [
       "\\begin{tabular}{r|llll}\n",
       " name & sex & id & age\\\\\n",
       "\\hline\n",
       "\t a  & M  & 1  & 18\\\\\n",
       "\t b  & F  & 2  & 24\\\\\n",
       "\t c  & F  & 3  & 23\\\\\n",
       "\t d  & M  & 4  & 18\\\\\n",
       "\t e  & O  & 5  & 19\\\\\n",
       "\\end{tabular}\n"
      ],
      "text/markdown": [
       "\n",
       "name | sex | id | age | \n",
       "|---|---|---|---|---|\n",
       "| a  | M  | 1  | 18 | \n",
       "| b  | F  | 2  | 24 | \n",
       "| c  | F  | 3  | 23 | \n",
       "| d  | M  | 4  | 18 | \n",
       "| e  | O  | 5  | 19 | \n",
       "\n",
       "\n"
      ],
      "text/plain": [
       "  name sex id age\n",
       "1 a    M   1  18 \n",
       "2 b    F   2  24 \n",
       "3 c    F   3  23 \n",
       "4 d    M   4  18 \n",
       "5 e    O   5  19 "
      ]
     },
     "metadata": {},
     "output_type": "display_data"
    }
   ],
   "source": [
    "df1"
   ]
  },
  {
   "cell_type": "code",
   "execution_count": 12,
   "metadata": {},
   "outputs": [
    {
     "data": {
      "text/html": [
       "<table>\n",
       "<thead><tr><th scope=col>name</th><th scope=col>sex</th><th scope=col>id</th><th scope=col>age</th></tr></thead>\n",
       "<tbody>\n",
       "\t<tr><td>x </td><td>M </td><td>1 </td><td>18</td></tr>\n",
       "\t<tr><td>y </td><td>F </td><td>2 </td><td>19</td></tr>\n",
       "\t<tr><td>Z </td><td>F </td><td>3 </td><td>20</td></tr>\n",
       "</tbody>\n",
       "</table>\n"
      ],
      "text/latex": [
       "\\begin{tabular}{r|llll}\n",
       " name & sex & id & age\\\\\n",
       "\\hline\n",
       "\t x  & M  & 1  & 18\\\\\n",
       "\t y  & F  & 2  & 19\\\\\n",
       "\t Z  & F  & 3  & 20\\\\\n",
       "\\end{tabular}\n"
      ],
      "text/markdown": [
       "\n",
       "name | sex | id | age | \n",
       "|---|---|---|\n",
       "| x  | M  | 1  | 18 | \n",
       "| y  | F  | 2  | 19 | \n",
       "| Z  | F  | 3  | 20 | \n",
       "\n",
       "\n"
      ],
      "text/plain": [
       "  name sex id age\n",
       "1 x    M   1  18 \n",
       "2 y    F   2  19 \n",
       "3 Z    F   3  20 "
      ]
     },
     "metadata": {},
     "output_type": "display_data"
    }
   ],
   "source": [
    "df2"
   ]
  },
  {
   "cell_type": "code",
   "execution_count": 14,
   "metadata": {},
   "outputs": [],
   "source": [
    "#rbind\n",
    "df3 = rbind(df1,df2)"
   ]
  },
  {
   "cell_type": "code",
   "execution_count": 15,
   "metadata": {},
   "outputs": [
    {
     "data": {
      "text/html": [
       "<table>\n",
       "<thead><tr><th scope=col>name</th><th scope=col>sex</th><th scope=col>id</th><th scope=col>age</th></tr></thead>\n",
       "<tbody>\n",
       "\t<tr><td>a </td><td>M </td><td>1 </td><td>18</td></tr>\n",
       "\t<tr><td>b </td><td>F </td><td>2 </td><td>24</td></tr>\n",
       "\t<tr><td>c </td><td>F </td><td>3 </td><td>23</td></tr>\n",
       "\t<tr><td>d </td><td>M </td><td>4 </td><td>18</td></tr>\n",
       "\t<tr><td>e </td><td>O </td><td>5 </td><td>19</td></tr>\n",
       "\t<tr><td>x </td><td>M </td><td>1 </td><td>18</td></tr>\n",
       "\t<tr><td>y </td><td>F </td><td>2 </td><td>19</td></tr>\n",
       "\t<tr><td>Z </td><td>F </td><td>3 </td><td>20</td></tr>\n",
       "</tbody>\n",
       "</table>\n"
      ],
      "text/latex": [
       "\\begin{tabular}{r|llll}\n",
       " name & sex & id & age\\\\\n",
       "\\hline\n",
       "\t a  & M  & 1  & 18\\\\\n",
       "\t b  & F  & 2  & 24\\\\\n",
       "\t c  & F  & 3  & 23\\\\\n",
       "\t d  & M  & 4  & 18\\\\\n",
       "\t e  & O  & 5  & 19\\\\\n",
       "\t x  & M  & 1  & 18\\\\\n",
       "\t y  & F  & 2  & 19\\\\\n",
       "\t Z  & F  & 3  & 20\\\\\n",
       "\\end{tabular}\n"
      ],
      "text/markdown": [
       "\n",
       "name | sex | id | age | \n",
       "|---|---|---|---|---|---|---|---|\n",
       "| a  | M  | 1  | 18 | \n",
       "| b  | F  | 2  | 24 | \n",
       "| c  | F  | 3  | 23 | \n",
       "| d  | M  | 4  | 18 | \n",
       "| e  | O  | 5  | 19 | \n",
       "| x  | M  | 1  | 18 | \n",
       "| y  | F  | 2  | 19 | \n",
       "| Z  | F  | 3  | 20 | \n",
       "\n",
       "\n"
      ],
      "text/plain": [
       "  name sex id age\n",
       "1 a    M   1  18 \n",
       "2 b    F   2  24 \n",
       "3 c    F   3  23 \n",
       "4 d    M   4  18 \n",
       "5 e    O   5  19 \n",
       "6 x    M   1  18 \n",
       "7 y    F   2  19 \n",
       "8 Z    F   3  20 "
      ]
     },
     "metadata": {},
     "output_type": "display_data"
    }
   ],
   "source": [
    "df3"
   ]
  },
  {
   "cell_type": "code",
   "execution_count": 17,
   "metadata": {},
   "outputs": [],
   "source": [
    "football = data.frame(id=c(1001,1005,1101,1021,1003),\n",
    "position=c('center','forward','goal keeper','defender','goal keeper') )"
   ]
  },
  {
   "cell_type": "code",
   "execution_count": 18,
   "metadata": {},
   "outputs": [
    {
     "data": {
      "text/html": [
       "<table>\n",
       "<thead><tr><th scope=col>id</th><th scope=col>position</th></tr></thead>\n",
       "<tbody>\n",
       "\t<tr><td>1001       </td><td>center     </td></tr>\n",
       "\t<tr><td>1005       </td><td>forward    </td></tr>\n",
       "\t<tr><td>1101       </td><td>goal keeper</td></tr>\n",
       "\t<tr><td>1021       </td><td>defender   </td></tr>\n",
       "\t<tr><td>1003       </td><td>goal keeper</td></tr>\n",
       "</tbody>\n",
       "</table>\n"
      ],
      "text/latex": [
       "\\begin{tabular}{r|ll}\n",
       " id & position\\\\\n",
       "\\hline\n",
       "\t 1001        & center     \\\\\n",
       "\t 1005        & forward    \\\\\n",
       "\t 1101        & goal keeper\\\\\n",
       "\t 1021        & defender   \\\\\n",
       "\t 1003        & goal keeper\\\\\n",
       "\\end{tabular}\n"
      ],
      "text/markdown": [
       "\n",
       "id | position | \n",
       "|---|---|---|---|---|\n",
       "| 1001        | center      | \n",
       "| 1005        | forward     | \n",
       "| 1101        | goal keeper | \n",
       "| 1021        | defender    | \n",
       "| 1003        | goal keeper | \n",
       "\n",
       "\n"
      ],
      "text/plain": [
       "  id   position   \n",
       "1 1001 center     \n",
       "2 1005 forward    \n",
       "3 1101 goal keeper\n",
       "4 1021 defender   \n",
       "5 1003 goal keeper"
      ]
     },
     "metadata": {},
     "output_type": "display_data"
    }
   ],
   "source": [
    "football"
   ]
  },
  {
   "cell_type": "code",
   "execution_count": 19,
   "metadata": {},
   "outputs": [],
   "source": [
    "cricket = data.frame(id=c(1101,1002,1004,1021,1008),\n",
    "    type=c(\"Batsman\",\"All rounder\",\"spin Bowler\",\"Keeper\",\"fast bowler\"))"
   ]
  },
  {
   "cell_type": "code",
   "execution_count": 20,
   "metadata": {},
   "outputs": [
    {
     "data": {
      "text/html": [
       "<table>\n",
       "<thead><tr><th scope=col>id</th><th scope=col>type</th></tr></thead>\n",
       "<tbody>\n",
       "\t<tr><td>1101       </td><td>Batsman    </td></tr>\n",
       "\t<tr><td>1002       </td><td>All rounder</td></tr>\n",
       "\t<tr><td>1004       </td><td>spin Bowler</td></tr>\n",
       "\t<tr><td>1021       </td><td>Keeper     </td></tr>\n",
       "\t<tr><td>1008       </td><td>fast bowler</td></tr>\n",
       "</tbody>\n",
       "</table>\n"
      ],
      "text/latex": [
       "\\begin{tabular}{r|ll}\n",
       " id & type\\\\\n",
       "\\hline\n",
       "\t 1101        & Batsman    \\\\\n",
       "\t 1002        & All rounder\\\\\n",
       "\t 1004        & spin Bowler\\\\\n",
       "\t 1021        & Keeper     \\\\\n",
       "\t 1008        & fast bowler\\\\\n",
       "\\end{tabular}\n"
      ],
      "text/markdown": [
       "\n",
       "id | type | \n",
       "|---|---|---|---|---|\n",
       "| 1101        | Batsman     | \n",
       "| 1002        | All rounder | \n",
       "| 1004        | spin Bowler | \n",
       "| 1021        | Keeper      | \n",
       "| 1008        | fast bowler | \n",
       "\n",
       "\n"
      ],
      "text/plain": [
       "  id   type       \n",
       "1 1101 Batsman    \n",
       "2 1002 All rounder\n",
       "3 1004 spin Bowler\n",
       "4 1021 Keeper     \n",
       "5 1008 fast bowler"
      ]
     },
     "metadata": {},
     "output_type": "display_data"
    }
   ],
   "source": [
    "cricket "
   ]
  },
  {
   "cell_type": "code",
   "execution_count": 22,
   "metadata": {},
   "outputs": [],
   "source": [
    "df = merge(x=football,y=cricket,by.x=\"id\",by.y=\"id\")"
   ]
  },
  {
   "cell_type": "code",
   "execution_count": 23,
   "metadata": {},
   "outputs": [
    {
     "data": {
      "text/html": [
       "<table>\n",
       "<thead><tr><th scope=col>id</th><th scope=col>position</th><th scope=col>type</th></tr></thead>\n",
       "<tbody>\n",
       "\t<tr><td>1021       </td><td>defender   </td><td>Keeper     </td></tr>\n",
       "\t<tr><td>1101       </td><td>goal keeper</td><td>Batsman    </td></tr>\n",
       "</tbody>\n",
       "</table>\n"
      ],
      "text/latex": [
       "\\begin{tabular}{r|lll}\n",
       " id & position & type\\\\\n",
       "\\hline\n",
       "\t 1021        & defender    & Keeper     \\\\\n",
       "\t 1101        & goal keeper & Batsman    \\\\\n",
       "\\end{tabular}\n"
      ],
      "text/markdown": [
       "\n",
       "id | position | type | \n",
       "|---|---|\n",
       "| 1021        | defender    | Keeper      | \n",
       "| 1101        | goal keeper | Batsman     | \n",
       "\n",
       "\n"
      ],
      "text/plain": [
       "  id   position    type   \n",
       "1 1021 defender    Keeper \n",
       "2 1101 goal keeper Batsman"
      ]
     },
     "metadata": {},
     "output_type": "display_data"
    }
   ],
   "source": [
    "df"
   ]
  },
  {
   "cell_type": "code",
   "execution_count": 24,
   "metadata": {},
   "outputs": [
    {
     "data": {
      "text/html": [
       "'C:/Users/Sachin/Desktop/Winter_INTERN_BATCH_2018/DataScience/R'"
      ],
      "text/latex": [
       "'C:/Users/Sachin/Desktop/Winter\\_INTERN\\_BATCH\\_2018/DataScience/R'"
      ],
      "text/markdown": [
       "'C:/Users/Sachin/Desktop/Winter_INTERN_BATCH_2018/DataScience/R'"
      ],
      "text/plain": [
       "[1] \"C:/Users/Sachin/Desktop/Winter_INTERN_BATCH_2018/DataScience/R\""
      ]
     },
     "metadata": {},
     "output_type": "display_data"
    }
   ],
   "source": [
    "getwd()"
   ]
  },
  {
   "cell_type": "code",
   "execution_count": 25,
   "metadata": {},
   "outputs": [],
   "source": [
    "s_data = read.csv('student_data.csv',header = T)\n",
    "s_marks = read.csv('student_marks.csv',header = T)"
   ]
  },
  {
   "cell_type": "code",
   "execution_count": 26,
   "metadata": {},
   "outputs": [
    {
     "data": {
      "text/html": [
       "<table>\n",
       "<thead><tr><th scope=col>sid</th><th scope=col>name</th><th scope=col>age</th><th scope=col>ph_no</th></tr></thead>\n",
       "<tbody>\n",
       "\t<tr><td>1         </td><td>manish    </td><td>18        </td><td>1238912985</td></tr>\n",
       "\t<tr><td>2         </td><td>poonam    </td><td>21        </td><td>1238998993</td></tr>\n",
       "\t<tr><td>3         </td><td>rajat     </td><td>33        </td><td>1823928312</td></tr>\n",
       "\t<tr><td>4         </td><td>preyanshu </td><td>18        </td><td> 123343212</td></tr>\n",
       "\t<tr><td>5         </td><td>simran    </td><td>19        </td><td>1281292312</td></tr>\n",
       "\t<tr><td>6         </td><td>ravi      </td><td>34        </td><td>1234543212</td></tr>\n",
       "</tbody>\n",
       "</table>\n"
      ],
      "text/latex": [
       "\\begin{tabular}{r|llll}\n",
       " sid & name & age & ph\\_no\\\\\n",
       "\\hline\n",
       "\t 1          & manish     & 18         & 1238912985\\\\\n",
       "\t 2          & poonam     & 21         & 1238998993\\\\\n",
       "\t 3          & rajat      & 33         & 1823928312\\\\\n",
       "\t 4          & preyanshu  & 18         &  123343212\\\\\n",
       "\t 5          & simran     & 19         & 1281292312\\\\\n",
       "\t 6          & ravi       & 34         & 1234543212\\\\\n",
       "\\end{tabular}\n"
      ],
      "text/markdown": [
       "\n",
       "sid | name | age | ph_no | \n",
       "|---|---|---|---|---|---|\n",
       "| 1          | manish     | 18         | 1238912985 | \n",
       "| 2          | poonam     | 21         | 1238998993 | \n",
       "| 3          | rajat      | 33         | 1823928312 | \n",
       "| 4          | preyanshu  | 18         |  123343212 | \n",
       "| 5          | simran     | 19         | 1281292312 | \n",
       "| 6          | ravi       | 34         | 1234543212 | \n",
       "\n",
       "\n"
      ],
      "text/plain": [
       "  sid name      age ph_no     \n",
       "1 1   manish    18  1238912985\n",
       "2 2   poonam    21  1238998993\n",
       "3 3   rajat     33  1823928312\n",
       "4 4   preyanshu 18   123343212\n",
       "5 5   simran    19  1281292312\n",
       "6 6   ravi      34  1234543212"
      ]
     },
     "metadata": {},
     "output_type": "display_data"
    }
   ],
   "source": [
    "s_data"
   ]
  },
  {
   "cell_type": "code",
   "execution_count": 27,
   "metadata": {},
   "outputs": [
    {
     "data": {
      "text/html": [
       "<table>\n",
       "<thead><tr><th scope=col>sid</th><th scope=col>marks1</th><th scope=col>marks2</th><th scope=col>marks3</th></tr></thead>\n",
       "<tbody>\n",
       "\t<tr><td>1 </td><td>56</td><td>76</td><td>34</td></tr>\n",
       "\t<tr><td>2 </td><td>74</td><td>67</td><td>56</td></tr>\n",
       "\t<tr><td>3 </td><td>56</td><td>67</td><td>43</td></tr>\n",
       "\t<tr><td>4 </td><td>67</td><td>45</td><td>34</td></tr>\n",
       "\t<tr><td>5 </td><td>NA</td><td>NA</td><td>NA</td></tr>\n",
       "\t<tr><td>6 </td><td>35</td><td>67</td><td>NA</td></tr>\n",
       "</tbody>\n",
       "</table>\n"
      ],
      "text/latex": [
       "\\begin{tabular}{r|llll}\n",
       " sid & marks1 & marks2 & marks3\\\\\n",
       "\\hline\n",
       "\t 1  & 56 & 76 & 34\\\\\n",
       "\t 2  & 74 & 67 & 56\\\\\n",
       "\t 3  & 56 & 67 & 43\\\\\n",
       "\t 4  & 67 & 45 & 34\\\\\n",
       "\t 5  & NA & NA & NA\\\\\n",
       "\t 6  & 35 & 67 & NA\\\\\n",
       "\\end{tabular}\n"
      ],
      "text/markdown": [
       "\n",
       "sid | marks1 | marks2 | marks3 | \n",
       "|---|---|---|---|---|---|\n",
       "| 1  | 56 | 76 | 34 | \n",
       "| 2  | 74 | 67 | 56 | \n",
       "| 3  | 56 | 67 | 43 | \n",
       "| 4  | 67 | 45 | 34 | \n",
       "| 5  | NA | NA | NA | \n",
       "| 6  | 35 | 67 | NA | \n",
       "\n",
       "\n"
      ],
      "text/plain": [
       "  sid marks1 marks2 marks3\n",
       "1 1   56     76     34    \n",
       "2 2   74     67     56    \n",
       "3 3   56     67     43    \n",
       "4 4   67     45     34    \n",
       "5 5   NA     NA     NA    \n",
       "6 6   35     67     NA    "
      ]
     },
     "metadata": {},
     "output_type": "display_data"
    }
   ],
   "source": [
    "s_marks"
   ]
  },
  {
   "cell_type": "code",
   "execution_count": 32,
   "metadata": {},
   "outputs": [],
   "source": [
    "total_data = merge(s_data,s_marks,by='sid')"
   ]
  },
  {
   "cell_type": "code",
   "execution_count": 34,
   "metadata": {},
   "outputs": [
    {
     "data": {
      "text/html": [
       "<table>\n",
       "<thead><tr><th scope=col>sid</th><th scope=col>name</th><th scope=col>age</th><th scope=col>ph_no</th><th scope=col>marks1</th><th scope=col>marks2</th><th scope=col>marks3</th></tr></thead>\n",
       "<tbody>\n",
       "\t<tr><td>1         </td><td>manish    </td><td>18        </td><td>1238912985</td><td>56        </td><td>76        </td><td>34        </td></tr>\n",
       "\t<tr><td>2         </td><td>poonam    </td><td>21        </td><td>1238998993</td><td>74        </td><td>67        </td><td>56        </td></tr>\n",
       "\t<tr><td>3         </td><td>rajat     </td><td>33        </td><td>1823928312</td><td>56        </td><td>67        </td><td>43        </td></tr>\n",
       "\t<tr><td>4         </td><td>preyanshu </td><td>18        </td><td> 123343212</td><td>67        </td><td>45        </td><td>34        </td></tr>\n",
       "\t<tr><td>5         </td><td>simran    </td><td>19        </td><td>1281292312</td><td>NA        </td><td>NA        </td><td>NA        </td></tr>\n",
       "\t<tr><td>6         </td><td>ravi      </td><td>34        </td><td>1234543212</td><td>35        </td><td>67        </td><td>NA        </td></tr>\n",
       "</tbody>\n",
       "</table>\n"
      ],
      "text/latex": [
       "\\begin{tabular}{r|lllllll}\n",
       " sid & name & age & ph\\_no & marks1 & marks2 & marks3\\\\\n",
       "\\hline\n",
       "\t 1          & manish     & 18         & 1238912985 & 56         & 76         & 34        \\\\\n",
       "\t 2          & poonam     & 21         & 1238998993 & 74         & 67         & 56        \\\\\n",
       "\t 3          & rajat      & 33         & 1823928312 & 56         & 67         & 43        \\\\\n",
       "\t 4          & preyanshu  & 18         &  123343212 & 67         & 45         & 34        \\\\\n",
       "\t 5          & simran     & 19         & 1281292312 & NA         & NA         & NA        \\\\\n",
       "\t 6          & ravi       & 34         & 1234543212 & 35         & 67         & NA        \\\\\n",
       "\\end{tabular}\n"
      ],
      "text/markdown": [
       "\n",
       "sid | name | age | ph_no | marks1 | marks2 | marks3 | \n",
       "|---|---|---|---|---|---|\n",
       "| 1          | manish     | 18         | 1238912985 | 56         | 76         | 34         | \n",
       "| 2          | poonam     | 21         | 1238998993 | 74         | 67         | 56         | \n",
       "| 3          | rajat      | 33         | 1823928312 | 56         | 67         | 43         | \n",
       "| 4          | preyanshu  | 18         |  123343212 | 67         | 45         | 34         | \n",
       "| 5          | simran     | 19         | 1281292312 | NA         | NA         | NA         | \n",
       "| 6          | ravi       | 34         | 1234543212 | 35         | 67         | NA         | \n",
       "\n",
       "\n"
      ],
      "text/plain": [
       "  sid name      age ph_no      marks1 marks2 marks3\n",
       "1 1   manish    18  1238912985 56     76     34    \n",
       "2 2   poonam    21  1238998993 74     67     56    \n",
       "3 3   rajat     33  1823928312 56     67     43    \n",
       "4 4   preyanshu 18   123343212 67     45     34    \n",
       "5 5   simran    19  1281292312 NA     NA     NA    \n",
       "6 6   ravi      34  1234543212 35     67     NA    "
      ]
     },
     "metadata": {},
     "output_type": "display_data"
    }
   ],
   "source": [
    "total_data"
   ]
  },
  {
   "cell_type": "code",
   "execution_count": null,
   "metadata": {},
   "outputs": [],
   "source": []
  }
 ],
 "metadata": {
  "kernelspec": {
   "display_name": "R",
   "language": "R",
   "name": "ir"
  },
  "language_info": {
   "codemirror_mode": "r",
   "file_extension": ".r",
   "mimetype": "text/x-r-source",
   "name": "R",
   "pygments_lexer": "r",
   "version": "3.5.0"
  }
 },
 "nbformat": 4,
 "nbformat_minor": 2
}
