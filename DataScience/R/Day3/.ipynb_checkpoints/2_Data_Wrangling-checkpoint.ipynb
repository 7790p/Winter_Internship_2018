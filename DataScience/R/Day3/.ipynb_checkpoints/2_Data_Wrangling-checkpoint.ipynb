{
 "cells": [
  {
   "cell_type": "markdown",
   "metadata": {},
   "source": [
    "<h1 style='color:#123456'>Data Wrangling Tools</h1>"
   ]
  },
  {
   "cell_type": "code",
   "execution_count": 1,
   "metadata": {},
   "outputs": [
    {
     "name": "stdout",
     "output_type": "stream",
     "text": [
      "  x\n",
      "1 1\n",
      "2 2\n",
      "3 3\n",
      "4 4\n",
      "5 5\n",
      "  y\n",
      "1 5\n",
      "2 4\n",
      "3 3\n",
      "4 2\n",
      "5 1\n"
     ]
    },
    {
     "ename": "ERROR",
     "evalue": "Error in `[.data.frame`(df, c): undefined columns selected\n",
     "output_type": "error",
     "traceback": [
      "Error in `[.data.frame`(df, c): undefined columns selected\nTraceback:\n",
      "1. print(df[c])",
      "2. df[c]",
      "3. `[.data.frame`(df, c)",
      "4. stop(\"undefined columns selected\")"
     ]
    }
   ],
   "source": [
    "df = data.frame(x=c(1,2,3,4,5),y=c(5,4,3,2,1))\n",
    "c = 1\n",
    "while (c <= 10 )  { \n",
    "    print(df[c]); c = c + 1 ; }"
   ]
  },
  {
   "cell_type": "code",
   "execution_count": null,
   "metadata": {},
   "outputs": [],
   "source": []
  },
  {
   "cell_type": "code",
   "execution_count": null,
   "metadata": {},
   "outputs": [],
   "source": []
  }
 ],
 "metadata": {
  "kernelspec": {
   "display_name": "R",
   "language": "R",
   "name": "ir"
  },
  "language_info": {
   "codemirror_mode": "r",
   "file_extension": ".r",
   "mimetype": "text/x-r-source",
   "name": "R",
   "pygments_lexer": "r",
   "version": "3.5.0"
  }
 },
 "nbformat": 4,
 "nbformat_minor": 2
}
