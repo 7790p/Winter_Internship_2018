{
 "cells": [
  {
   "cell_type": "markdown",
   "metadata": {},
   "source": [
    "<h1 style='color:#123456'>Data Wrangling Tools</h1>"
   ]
  },
  {
   "cell_type": "markdown",
   "metadata": {},
   "source": [
    "<table style='font-size:35'>\n",
    "<th style='color:red;font-size:70'>R data Wrangling Tools</th>\n",
    "<tr style='color:blue'><td>sqldf </td><td>SQL statements on R</td></tr>\n",
    "<tr style='color:blue'><td>tidyr</td><td>spread() and gather()</td></tr>\n",
    "<tr style='color:blue'><td>plyr & dplyr</td><td>split-apply-combine</td></tr>\n",
    "<tr style='color:blue'><td>reshape2</td><td>restructure and aggregate</td></tr>\n",
    "<tr style='color:blue'><td>Data.table</td><td>large data sets</td></tr>\n",
    "<tr style='color:blue'><td>Stringer</td><td>text manipulation</td></tr>\n",
    "</table>"
   ]
  },
  {
   "cell_type": "markdown",
   "metadata": {},
   "source": [
    "<h1 style='color:red'>Installing and Loading Packages in R </h1>\n",
    "<p style='color:#123456'>install.packages(\"package-name\") </p>\n",
    "<p style='color:#123456'>library(package-name)</p>"
   ]
  },
  {
   "cell_type": "markdown",
   "metadata": {},
   "source": [
    "<h1 style='color:#123456'>Reshaping Data in R</h1>"
   ]
  },
  {
   "cell_type": "code",
   "execution_count": null,
   "metadata": {},
   "outputs": [],
   "source": []
  }
 ],
 "metadata": {
  "kernelspec": {
   "display_name": "R",
   "language": "R",
   "name": "ir"
  },
  "language_info": {
   "codemirror_mode": "r",
   "file_extension": ".r",
   "mimetype": "text/x-r-source",
   "name": "R",
   "pygments_lexer": "r",
   "version": "3.5.0"
  }
 },
 "nbformat": 4,
 "nbformat_minor": 2
}
