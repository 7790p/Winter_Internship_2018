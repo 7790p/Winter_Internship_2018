{
 "cells": [
  {
   "cell_type": "code",
   "execution_count": 9,
   "metadata": {},
   "outputs": [],
   "source": [
    "data1 = data.frame(sid=c(1,2,3,4,5,7),\n",
    "                  name=c(\"Sam\",\"Vijay\",\"Tanvi\",\"Rashmi\",\"Parag\",\"Niraj\"),\n",
    "                  address=c(\"GangaNagar\",\"Jaipur\",\"Mathura\",\"UP\",\"Jaipur\",\"Jaipur\"))"
   ]
  },
  {
   "cell_type": "code",
   "execution_count": 10,
   "metadata": {},
   "outputs": [],
   "source": [
    "data2 = data.frame(id=c(1,2,3,4,5,6),\n",
    "                   fees=c(15000,25000,12000,10000,12000,20000),\n",
    "                   course=c('linux','data science','python','linux','linux','python')\n",
    "                   )"
   ]
  },
  {
   "cell_type": "code",
   "execution_count": 11,
   "metadata": {},
   "outputs": [
    {
     "data": {
      "text/html": [
       "<table>\n",
       "<thead><tr><th scope=col>sid</th><th scope=col>name</th><th scope=col>address</th></tr></thead>\n",
       "<tbody>\n",
       "\t<tr><td>1         </td><td>Sam       </td><td>GangaNagar</td></tr>\n",
       "\t<tr><td>2         </td><td>Vijay     </td><td>Jaipur    </td></tr>\n",
       "\t<tr><td>3         </td><td>Tanvi     </td><td>Mathura   </td></tr>\n",
       "\t<tr><td>4         </td><td>Rashmi    </td><td>UP        </td></tr>\n",
       "\t<tr><td>5         </td><td>Parag     </td><td>Jaipur    </td></tr>\n",
       "\t<tr><td>7         </td><td>Niraj     </td><td>Jaipur    </td></tr>\n",
       "</tbody>\n",
       "</table>\n"
      ],
      "text/latex": [
       "\\begin{tabular}{r|lll}\n",
       " sid & name & address\\\\\n",
       "\\hline\n",
       "\t 1          & Sam        & GangaNagar\\\\\n",
       "\t 2          & Vijay      & Jaipur    \\\\\n",
       "\t 3          & Tanvi      & Mathura   \\\\\n",
       "\t 4          & Rashmi     & UP        \\\\\n",
       "\t 5          & Parag      & Jaipur    \\\\\n",
       "\t 7          & Niraj      & Jaipur    \\\\\n",
       "\\end{tabular}\n"
      ],
      "text/markdown": [
       "\n",
       "sid | name | address | \n",
       "|---|---|---|---|---|---|\n",
       "| 1          | Sam        | GangaNagar | \n",
       "| 2          | Vijay      | Jaipur     | \n",
       "| 3          | Tanvi      | Mathura    | \n",
       "| 4          | Rashmi     | UP         | \n",
       "| 5          | Parag      | Jaipur     | \n",
       "| 7          | Niraj      | Jaipur     | \n",
       "\n",
       "\n"
      ],
      "text/plain": [
       "  sid name   address   \n",
       "1 1   Sam    GangaNagar\n",
       "2 2   Vijay  Jaipur    \n",
       "3 3   Tanvi  Mathura   \n",
       "4 4   Rashmi UP        \n",
       "5 5   Parag  Jaipur    \n",
       "6 7   Niraj  Jaipur    "
      ]
     },
     "metadata": {},
     "output_type": "display_data"
    }
   ],
   "source": [
    "data1"
   ]
  },
  {
   "cell_type": "code",
   "execution_count": 12,
   "metadata": {},
   "outputs": [
    {
     "data": {
      "text/html": [
       "<table>\n",
       "<thead><tr><th scope=col>id</th><th scope=col>fees</th><th scope=col>course</th></tr></thead>\n",
       "<tbody>\n",
       "\t<tr><td>1           </td><td>15000       </td><td>linux       </td></tr>\n",
       "\t<tr><td>2           </td><td>25000       </td><td>data science</td></tr>\n",
       "\t<tr><td>3           </td><td>12000       </td><td>python      </td></tr>\n",
       "\t<tr><td>4           </td><td>10000       </td><td>linux       </td></tr>\n",
       "\t<tr><td>5           </td><td>12000       </td><td>linux       </td></tr>\n",
       "\t<tr><td>6           </td><td>20000       </td><td>python      </td></tr>\n",
       "</tbody>\n",
       "</table>\n"
      ],
      "text/latex": [
       "\\begin{tabular}{r|lll}\n",
       " id & fees & course\\\\\n",
       "\\hline\n",
       "\t 1            & 15000        & linux       \\\\\n",
       "\t 2            & 25000        & data science\\\\\n",
       "\t 3            & 12000        & python      \\\\\n",
       "\t 4            & 10000        & linux       \\\\\n",
       "\t 5            & 12000        & linux       \\\\\n",
       "\t 6            & 20000        & python      \\\\\n",
       "\\end{tabular}\n"
      ],
      "text/markdown": [
       "\n",
       "id | fees | course | \n",
       "|---|---|---|---|---|---|\n",
       "| 1            | 15000        | linux        | \n",
       "| 2            | 25000        | data science | \n",
       "| 3            | 12000        | python       | \n",
       "| 4            | 10000        | linux        | \n",
       "| 5            | 12000        | linux        | \n",
       "| 6            | 20000        | python       | \n",
       "\n",
       "\n"
      ],
      "text/plain": [
       "  id fees  course      \n",
       "1 1  15000 linux       \n",
       "2 2  25000 data science\n",
       "3 3  12000 python      \n",
       "4 4  10000 linux       \n",
       "5 5  12000 linux       \n",
       "6 6  20000 python      "
      ]
     },
     "metadata": {},
     "output_type": "display_data"
    }
   ],
   "source": [
    "data2"
   ]
  },
  {
   "cell_type": "code",
   "execution_count": 15,
   "metadata": {},
   "outputs": [],
   "source": [
    "data = merge(x=data1,y=data2,by.x='sid',by.y='id')"
   ]
  },
  {
   "cell_type": "code",
   "execution_count": 16,
   "metadata": {},
   "outputs": [
    {
     "data": {
      "text/html": [
       "<table>\n",
       "<thead><tr><th scope=col>sid</th><th scope=col>name</th><th scope=col>address</th><th scope=col>fees</th><th scope=col>course</th></tr></thead>\n",
       "<tbody>\n",
       "\t<tr><td>1           </td><td>Sam         </td><td>GangaNagar  </td><td>15000       </td><td>linux       </td></tr>\n",
       "\t<tr><td>2           </td><td>Vijay       </td><td>Jaipur      </td><td>25000       </td><td>data science</td></tr>\n",
       "\t<tr><td>3           </td><td>Tanvi       </td><td>Mathura     </td><td>12000       </td><td>python      </td></tr>\n",
       "\t<tr><td>4           </td><td>Rashmi      </td><td>UP          </td><td>10000       </td><td>linux       </td></tr>\n",
       "\t<tr><td>5           </td><td>Parag       </td><td>Jaipur      </td><td>12000       </td><td>linux       </td></tr>\n",
       "</tbody>\n",
       "</table>\n"
      ],
      "text/latex": [
       "\\begin{tabular}{r|lllll}\n",
       " sid & name & address & fees & course\\\\\n",
       "\\hline\n",
       "\t 1            & Sam          & GangaNagar   & 15000        & linux       \\\\\n",
       "\t 2            & Vijay        & Jaipur       & 25000        & data science\\\\\n",
       "\t 3            & Tanvi        & Mathura      & 12000        & python      \\\\\n",
       "\t 4            & Rashmi       & UP           & 10000        & linux       \\\\\n",
       "\t 5            & Parag        & Jaipur       & 12000        & linux       \\\\\n",
       "\\end{tabular}\n"
      ],
      "text/markdown": [
       "\n",
       "sid | name | address | fees | course | \n",
       "|---|---|---|---|---|\n",
       "| 1            | Sam          | GangaNagar   | 15000        | linux        | \n",
       "| 2            | Vijay        | Jaipur       | 25000        | data science | \n",
       "| 3            | Tanvi        | Mathura      | 12000        | python       | \n",
       "| 4            | Rashmi       | UP           | 10000        | linux        | \n",
       "| 5            | Parag        | Jaipur       | 12000        | linux        | \n",
       "\n",
       "\n"
      ],
      "text/plain": [
       "  sid name   address    fees  course      \n",
       "1 1   Sam    GangaNagar 15000 linux       \n",
       "2 2   Vijay  Jaipur     25000 data science\n",
       "3 3   Tanvi  Mathura    12000 python      \n",
       "4 4   Rashmi UP         10000 linux       \n",
       "5 5   Parag  Jaipur     12000 linux       "
      ]
     },
     "metadata": {},
     "output_type": "display_data"
    }
   ],
   "source": [
    "data"
   ]
  },
  {
   "cell_type": "code",
   "execution_count": 18,
   "metadata": {},
   "outputs": [],
   "source": [
    "#based on two columns \n",
    "football = data.frame(name=c(\"Rahul\",\"Punit\",\"Jhon\",\"Natsha\",\"Harry\"),\n",
    "                     position=c(\"Center\",\"Forward\",\"Goal Keeper\",\"Forward\",\"Defence\")\n",
    "                     )\n",
    "cricket = data.frame(player_name=c(\"Sachin\",\"Rahul\",\"Rajat\",\"Ravi\",\"John\",\"Harry\"),\n",
    "                    type=c(\"BatsMan\",\"Fast Bowler\",\"Spin Bowler\",\"Wicket Keeper\",\"All rounder\",\"Batsman\")\n",
    "                    )"
   ]
  },
  {
   "cell_type": "code",
   "execution_count": 19,
   "metadata": {},
   "outputs": [
    {
     "data": {
      "text/html": [
       "<table>\n",
       "<thead><tr><th scope=col>name</th><th scope=col>position</th></tr></thead>\n",
       "<tbody>\n",
       "\t<tr><td>Rahul      </td><td>Center     </td></tr>\n",
       "\t<tr><td>Punit      </td><td>Forward    </td></tr>\n",
       "\t<tr><td>Jhon       </td><td>Goal Keeper</td></tr>\n",
       "\t<tr><td>Natsha     </td><td>Forward    </td></tr>\n",
       "\t<tr><td>Harry      </td><td>Defence    </td></tr>\n",
       "</tbody>\n",
       "</table>\n"
      ],
      "text/latex": [
       "\\begin{tabular}{r|ll}\n",
       " name & position\\\\\n",
       "\\hline\n",
       "\t Rahul       & Center     \\\\\n",
       "\t Punit       & Forward    \\\\\n",
       "\t Jhon        & Goal Keeper\\\\\n",
       "\t Natsha      & Forward    \\\\\n",
       "\t Harry       & Defence    \\\\\n",
       "\\end{tabular}\n"
      ],
      "text/markdown": [
       "\n",
       "name | position | \n",
       "|---|---|---|---|---|\n",
       "| Rahul       | Center      | \n",
       "| Punit       | Forward     | \n",
       "| Jhon        | Goal Keeper | \n",
       "| Natsha      | Forward     | \n",
       "| Harry       | Defence     | \n",
       "\n",
       "\n"
      ],
      "text/plain": [
       "  name   position   \n",
       "1 Rahul  Center     \n",
       "2 Punit  Forward    \n",
       "3 Jhon   Goal Keeper\n",
       "4 Natsha Forward    \n",
       "5 Harry  Defence    "
      ]
     },
     "metadata": {},
     "output_type": "display_data"
    }
   ],
   "source": [
    "football"
   ]
  },
  {
   "cell_type": "code",
   "execution_count": 20,
   "metadata": {},
   "outputs": [
    {
     "data": {
      "text/html": [
       "<table>\n",
       "<thead><tr><th scope=col>player_name</th><th scope=col>type</th></tr></thead>\n",
       "<tbody>\n",
       "\t<tr><td>Sachin       </td><td>BatsMan      </td></tr>\n",
       "\t<tr><td>Rahul        </td><td>Fast Bowler  </td></tr>\n",
       "\t<tr><td>Rajat        </td><td>Spin Bowler  </td></tr>\n",
       "\t<tr><td>Ravi         </td><td>Wicket Keeper</td></tr>\n",
       "\t<tr><td>John         </td><td>All rounder  </td></tr>\n",
       "\t<tr><td>Harry        </td><td>Batsman      </td></tr>\n",
       "</tbody>\n",
       "</table>\n"
      ],
      "text/latex": [
       "\\begin{tabular}{r|ll}\n",
       " player\\_name & type\\\\\n",
       "\\hline\n",
       "\t Sachin        & BatsMan      \\\\\n",
       "\t Rahul         & Fast Bowler  \\\\\n",
       "\t Rajat         & Spin Bowler  \\\\\n",
       "\t Ravi          & Wicket Keeper\\\\\n",
       "\t John          & All rounder  \\\\\n",
       "\t Harry         & Batsman      \\\\\n",
       "\\end{tabular}\n"
      ],
      "text/markdown": [
       "\n",
       "player_name | type | \n",
       "|---|---|---|---|---|---|\n",
       "| Sachin        | BatsMan       | \n",
       "| Rahul         | Fast Bowler   | \n",
       "| Rajat         | Spin Bowler   | \n",
       "| Ravi          | Wicket Keeper | \n",
       "| John          | All rounder   | \n",
       "| Harry         | Batsman       | \n",
       "\n",
       "\n"
      ],
      "text/plain": [
       "  player_name type         \n",
       "1 Sachin      BatsMan      \n",
       "2 Rahul       Fast Bowler  \n",
       "3 Rajat       Spin Bowler  \n",
       "4 Ravi        Wicket Keeper\n",
       "5 John        All rounder  \n",
       "6 Harry       Batsman      "
      ]
     },
     "metadata": {},
     "output_type": "display_data"
    }
   ],
   "source": [
    "cricket"
   ]
  },
  {
   "cell_type": "code",
   "execution_count": 21,
   "metadata": {},
   "outputs": [],
   "source": [
    "common = merge(x=football,y=cricket,by.x='name',by.y='player_name')"
   ]
  },
  {
   "cell_type": "code",
   "execution_count": 22,
   "metadata": {},
   "outputs": [
    {
     "data": {
      "text/html": [
       "<table>\n",
       "<thead><tr><th scope=col>name</th><th scope=col>position</th><th scope=col>type</th></tr></thead>\n",
       "<tbody>\n",
       "\t<tr><td>Harry      </td><td>Defence    </td><td>Batsman    </td></tr>\n",
       "\t<tr><td>Rahul      </td><td>Center     </td><td>Fast Bowler</td></tr>\n",
       "</tbody>\n",
       "</table>\n"
      ],
      "text/latex": [
       "\\begin{tabular}{r|lll}\n",
       " name & position & type\\\\\n",
       "\\hline\n",
       "\t Harry       & Defence     & Batsman    \\\\\n",
       "\t Rahul       & Center      & Fast Bowler\\\\\n",
       "\\end{tabular}\n"
      ],
      "text/markdown": [
       "\n",
       "name | position | type | \n",
       "|---|---|\n",
       "| Harry       | Defence     | Batsman     | \n",
       "| Rahul       | Center      | Fast Bowler | \n",
       "\n",
       "\n"
      ],
      "text/plain": [
       "  name  position type       \n",
       "1 Harry Defence  Batsman    \n",
       "2 Rahul Center   Fast Bowler"
      ]
     },
     "metadata": {},
     "output_type": "display_data"
    }
   ],
   "source": [
    "common"
   ]
  },
  {
   "cell_type": "code",
   "execution_count": 23,
   "metadata": {},
   "outputs": [
    {
     "data": {
      "text/html": [
       "<table>\n",
       "<thead><tr><th scope=col>sid</th><th scope=col>name</th><th scope=col>address</th></tr></thead>\n",
       "<tbody>\n",
       "\t<tr><td>1         </td><td>Sam       </td><td>GangaNagar</td></tr>\n",
       "\t<tr><td>2         </td><td>Vijay     </td><td>Jaipur    </td></tr>\n",
       "\t<tr><td>3         </td><td>Tanvi     </td><td>Mathura   </td></tr>\n",
       "\t<tr><td>4         </td><td>Rashmi    </td><td>UP        </td></tr>\n",
       "\t<tr><td>5         </td><td>Parag     </td><td>Jaipur    </td></tr>\n",
       "\t<tr><td>7         </td><td>Niraj     </td><td>Jaipur    </td></tr>\n",
       "</tbody>\n",
       "</table>\n"
      ],
      "text/latex": [
       "\\begin{tabular}{r|lll}\n",
       " sid & name & address\\\\\n",
       "\\hline\n",
       "\t 1          & Sam        & GangaNagar\\\\\n",
       "\t 2          & Vijay      & Jaipur    \\\\\n",
       "\t 3          & Tanvi      & Mathura   \\\\\n",
       "\t 4          & Rashmi     & UP        \\\\\n",
       "\t 5          & Parag      & Jaipur    \\\\\n",
       "\t 7          & Niraj      & Jaipur    \\\\\n",
       "\\end{tabular}\n"
      ],
      "text/markdown": [
       "\n",
       "sid | name | address | \n",
       "|---|---|---|---|---|---|\n",
       "| 1          | Sam        | GangaNagar | \n",
       "| 2          | Vijay      | Jaipur     | \n",
       "| 3          | Tanvi      | Mathura    | \n",
       "| 4          | Rashmi     | UP         | \n",
       "| 5          | Parag      | Jaipur     | \n",
       "| 7          | Niraj      | Jaipur     | \n",
       "\n",
       "\n"
      ],
      "text/plain": [
       "  sid name   address   \n",
       "1 1   Sam    GangaNagar\n",
       "2 2   Vijay  Jaipur    \n",
       "3 3   Tanvi  Mathura   \n",
       "4 4   Rashmi UP        \n",
       "5 5   Parag  Jaipur    \n",
       "6 7   Niraj  Jaipur    "
      ]
     },
     "metadata": {},
     "output_type": "display_data"
    }
   ],
   "source": [
    "data1"
   ]
  },
  {
   "cell_type": "code",
   "execution_count": 24,
   "metadata": {},
   "outputs": [
    {
     "data": {
      "text/html": [
       "<table>\n",
       "<thead><tr><th scope=col>id</th><th scope=col>fees</th><th scope=col>course</th></tr></thead>\n",
       "<tbody>\n",
       "\t<tr><td>1           </td><td>15000       </td><td>linux       </td></tr>\n",
       "\t<tr><td>2           </td><td>25000       </td><td>data science</td></tr>\n",
       "\t<tr><td>3           </td><td>12000       </td><td>python      </td></tr>\n",
       "\t<tr><td>4           </td><td>10000       </td><td>linux       </td></tr>\n",
       "\t<tr><td>5           </td><td>12000       </td><td>linux       </td></tr>\n",
       "\t<tr><td>6           </td><td>20000       </td><td>python      </td></tr>\n",
       "</tbody>\n",
       "</table>\n"
      ],
      "text/latex": [
       "\\begin{tabular}{r|lll}\n",
       " id & fees & course\\\\\n",
       "\\hline\n",
       "\t 1            & 15000        & linux       \\\\\n",
       "\t 2            & 25000        & data science\\\\\n",
       "\t 3            & 12000        & python      \\\\\n",
       "\t 4            & 10000        & linux       \\\\\n",
       "\t 5            & 12000        & linux       \\\\\n",
       "\t 6            & 20000        & python      \\\\\n",
       "\\end{tabular}\n"
      ],
      "text/markdown": [
       "\n",
       "id | fees | course | \n",
       "|---|---|---|---|---|---|\n",
       "| 1            | 15000        | linux        | \n",
       "| 2            | 25000        | data science | \n",
       "| 3            | 12000        | python       | \n",
       "| 4            | 10000        | linux        | \n",
       "| 5            | 12000        | linux        | \n",
       "| 6            | 20000        | python       | \n",
       "\n",
       "\n"
      ],
      "text/plain": [
       "  id fees  course      \n",
       "1 1  15000 linux       \n",
       "2 2  25000 data science\n",
       "3 3  12000 python      \n",
       "4 4  10000 linux       \n",
       "5 5  12000 linux       \n",
       "6 6  20000 python      "
      ]
     },
     "metadata": {},
     "output_type": "display_data"
    }
   ],
   "source": [
    "data2"
   ]
  },
  {
   "cell_type": "code",
   "execution_count": 26,
   "metadata": {},
   "outputs": [],
   "source": [
    "#cbind \n",
    "new_data = cbind(data1[,c(\"sid\",\"name\")],data2[,c(\"fees\",\"course\")])"
   ]
  },
  {
   "cell_type": "code",
   "execution_count": 27,
   "metadata": {},
   "outputs": [
    {
     "data": {
      "text/html": [
       "<table>\n",
       "<thead><tr><th scope=col>sid</th><th scope=col>name</th><th scope=col>fees</th><th scope=col>course</th></tr></thead>\n",
       "<tbody>\n",
       "\t<tr><td>1           </td><td>Sam         </td><td>15000       </td><td>linux       </td></tr>\n",
       "\t<tr><td>2           </td><td>Vijay       </td><td>25000       </td><td>data science</td></tr>\n",
       "\t<tr><td>3           </td><td>Tanvi       </td><td>12000       </td><td>python      </td></tr>\n",
       "\t<tr><td>4           </td><td>Rashmi      </td><td>10000       </td><td>linux       </td></tr>\n",
       "\t<tr><td>5           </td><td>Parag       </td><td>12000       </td><td>linux       </td></tr>\n",
       "\t<tr><td>7           </td><td>Niraj       </td><td>20000       </td><td>python      </td></tr>\n",
       "</tbody>\n",
       "</table>\n"
      ],
      "text/latex": [
       "\\begin{tabular}{r|llll}\n",
       " sid & name & fees & course\\\\\n",
       "\\hline\n",
       "\t 1            & Sam          & 15000        & linux       \\\\\n",
       "\t 2            & Vijay        & 25000        & data science\\\\\n",
       "\t 3            & Tanvi        & 12000        & python      \\\\\n",
       "\t 4            & Rashmi       & 10000        & linux       \\\\\n",
       "\t 5            & Parag        & 12000        & linux       \\\\\n",
       "\t 7            & Niraj        & 20000        & python      \\\\\n",
       "\\end{tabular}\n"
      ],
      "text/markdown": [
       "\n",
       "sid | name | fees | course | \n",
       "|---|---|---|---|---|---|\n",
       "| 1            | Sam          | 15000        | linux        | \n",
       "| 2            | Vijay        | 25000        | data science | \n",
       "| 3            | Tanvi        | 12000        | python       | \n",
       "| 4            | Rashmi       | 10000        | linux        | \n",
       "| 5            | Parag        | 12000        | linux        | \n",
       "| 7            | Niraj        | 20000        | python       | \n",
       "\n",
       "\n"
      ],
      "text/plain": [
       "  sid name   fees  course      \n",
       "1 1   Sam    15000 linux       \n",
       "2 2   Vijay  25000 data science\n",
       "3 3   Tanvi  12000 python      \n",
       "4 4   Rashmi 10000 linux       \n",
       "5 5   Parag  12000 linux       \n",
       "6 7   Niraj  20000 python      "
      ]
     },
     "metadata": {},
     "output_type": "display_data"
    }
   ],
   "source": [
    "new_data"
   ]
  },
  {
   "cell_type": "code",
   "execution_count": 28,
   "metadata": {},
   "outputs": [
    {
     "data": {
      "text/html": [
       "<table>\n",
       "<thead><tr><th scope=col>name</th><th scope=col>position</th></tr></thead>\n",
       "<tbody>\n",
       "\t<tr><td>Rahul      </td><td>Center     </td></tr>\n",
       "\t<tr><td>Punit      </td><td>Forward    </td></tr>\n",
       "\t<tr><td>Jhon       </td><td>Goal Keeper</td></tr>\n",
       "\t<tr><td>Natsha     </td><td>Forward    </td></tr>\n",
       "\t<tr><td>Harry      </td><td>Defence    </td></tr>\n",
       "</tbody>\n",
       "</table>\n"
      ],
      "text/latex": [
       "\\begin{tabular}{r|ll}\n",
       " name & position\\\\\n",
       "\\hline\n",
       "\t Rahul       & Center     \\\\\n",
       "\t Punit       & Forward    \\\\\n",
       "\t Jhon        & Goal Keeper\\\\\n",
       "\t Natsha      & Forward    \\\\\n",
       "\t Harry       & Defence    \\\\\n",
       "\\end{tabular}\n"
      ],
      "text/markdown": [
       "\n",
       "name | position | \n",
       "|---|---|---|---|---|\n",
       "| Rahul       | Center      | \n",
       "| Punit       | Forward     | \n",
       "| Jhon        | Goal Keeper | \n",
       "| Natsha      | Forward     | \n",
       "| Harry       | Defence     | \n",
       "\n",
       "\n"
      ],
      "text/plain": [
       "  name   position   \n",
       "1 Rahul  Center     \n",
       "2 Punit  Forward    \n",
       "3 Jhon   Goal Keeper\n",
       "4 Natsha Forward    \n",
       "5 Harry  Defence    "
      ]
     },
     "metadata": {},
     "output_type": "display_data"
    }
   ],
   "source": [
    "football"
   ]
  },
  {
   "cell_type": "code",
   "execution_count": 29,
   "metadata": {},
   "outputs": [
    {
     "data": {
      "text/html": [
       "<table>\n",
       "<thead><tr><th scope=col>player_name</th><th scope=col>type</th></tr></thead>\n",
       "<tbody>\n",
       "\t<tr><td>Sachin       </td><td>BatsMan      </td></tr>\n",
       "\t<tr><td>Rahul        </td><td>Fast Bowler  </td></tr>\n",
       "\t<tr><td>Rajat        </td><td>Spin Bowler  </td></tr>\n",
       "\t<tr><td>Ravi         </td><td>Wicket Keeper</td></tr>\n",
       "\t<tr><td>John         </td><td>All rounder  </td></tr>\n",
       "\t<tr><td>Harry        </td><td>Batsman      </td></tr>\n",
       "</tbody>\n",
       "</table>\n"
      ],
      "text/latex": [
       "\\begin{tabular}{r|ll}\n",
       " player\\_name & type\\\\\n",
       "\\hline\n",
       "\t Sachin        & BatsMan      \\\\\n",
       "\t Rahul         & Fast Bowler  \\\\\n",
       "\t Rajat         & Spin Bowler  \\\\\n",
       "\t Ravi          & Wicket Keeper\\\\\n",
       "\t John          & All rounder  \\\\\n",
       "\t Harry         & Batsman      \\\\\n",
       "\\end{tabular}\n"
      ],
      "text/markdown": [
       "\n",
       "player_name | type | \n",
       "|---|---|---|---|---|---|\n",
       "| Sachin        | BatsMan       | \n",
       "| Rahul         | Fast Bowler   | \n",
       "| Rajat         | Spin Bowler   | \n",
       "| Ravi          | Wicket Keeper | \n",
       "| John          | All rounder   | \n",
       "| Harry         | Batsman       | \n",
       "\n",
       "\n"
      ],
      "text/plain": [
       "  player_name type         \n",
       "1 Sachin      BatsMan      \n",
       "2 Rahul       Fast Bowler  \n",
       "3 Rajat       Spin Bowler  \n",
       "4 Ravi        Wicket Keeper\n",
       "5 John        All rounder  \n",
       "6 Harry       Batsman      "
      ]
     },
     "metadata": {},
     "output_type": "display_data"
    }
   ],
   "source": [
    "cricket"
   ]
  },
  {
   "cell_type": "code",
   "execution_count": 30,
   "metadata": {},
   "outputs": [
    {
     "ename": "ERROR",
     "evalue": "Error in match.names(clabs, names(xi)): names do not match previous names\n",
     "output_type": "error",
     "traceback": [
      "Error in match.names(clabs, names(xi)): names do not match previous names\nTraceback:\n",
      "1. rbind(football, cricket)",
      "2. rbind(deparse.level, ...)",
      "3. match.names(clabs, names(xi))",
      "4. stop(\"names do not match previous names\")"
     ]
    }
   ],
   "source": [
    "#rbind\n",
    "students = rbind(football,cricket)"
   ]
  },
  {
   "cell_type": "code",
   "execution_count": 32,
   "metadata": {},
   "outputs": [],
   "source": [
    "colnames(football) <- c(\"name\",\"type\")\n",
    "colnames(cricket) <- c(\"name\",\"type\")"
   ]
  },
  {
   "cell_type": "code",
   "execution_count": 33,
   "metadata": {},
   "outputs": [],
   "source": [
    "#rbind\n",
    "students = rbind(football,cricket)"
   ]
  },
  {
   "cell_type": "code",
   "execution_count": 41,
   "metadata": {},
   "outputs": [
    {
     "data": {
      "text/html": [
       "<table>\n",
       "<thead><tr><th scope=col>name</th><th scope=col>type</th></tr></thead>\n",
       "<tbody>\n",
       "\t<tr><td>Rahul        </td><td>Center       </td></tr>\n",
       "\t<tr><td>Punit        </td><td>Forward      </td></tr>\n",
       "\t<tr><td>Jhon         </td><td>Goal Keeper  </td></tr>\n",
       "\t<tr><td>Natsha       </td><td>Forward      </td></tr>\n",
       "\t<tr><td>Harry        </td><td>Defence      </td></tr>\n",
       "\t<tr><td>Sachin       </td><td>BatsMan      </td></tr>\n",
       "\t<tr><td>Rahul        </td><td>Fast Bowler  </td></tr>\n",
       "\t<tr><td>Rajat        </td><td>Spin Bowler  </td></tr>\n",
       "\t<tr><td>Ravi         </td><td>Wicket Keeper</td></tr>\n",
       "\t<tr><td>John         </td><td>All rounder  </td></tr>\n",
       "\t<tr><td>Harry        </td><td>Batsman      </td></tr>\n",
       "</tbody>\n",
       "</table>\n"
      ],
      "text/latex": [
       "\\begin{tabular}{r|ll}\n",
       " name & type\\\\\n",
       "\\hline\n",
       "\t Rahul         & Center       \\\\\n",
       "\t Punit         & Forward      \\\\\n",
       "\t Jhon          & Goal Keeper  \\\\\n",
       "\t Natsha        & Forward      \\\\\n",
       "\t Harry         & Defence      \\\\\n",
       "\t Sachin        & BatsMan      \\\\\n",
       "\t Rahul         & Fast Bowler  \\\\\n",
       "\t Rajat         & Spin Bowler  \\\\\n",
       "\t Ravi          & Wicket Keeper\\\\\n",
       "\t John          & All rounder  \\\\\n",
       "\t Harry         & Batsman      \\\\\n",
       "\\end{tabular}\n"
      ],
      "text/markdown": [
       "\n",
       "name | type | \n",
       "|---|---|---|---|---|---|---|---|---|---|---|\n",
       "| Rahul         | Center        | \n",
       "| Punit         | Forward       | \n",
       "| Jhon          | Goal Keeper   | \n",
       "| Natsha        | Forward       | \n",
       "| Harry         | Defence       | \n",
       "| Sachin        | BatsMan       | \n",
       "| Rahul         | Fast Bowler   | \n",
       "| Rajat         | Spin Bowler   | \n",
       "| Ravi          | Wicket Keeper | \n",
       "| John          | All rounder   | \n",
       "| Harry         | Batsman       | \n",
       "\n",
       "\n"
      ],
      "text/plain": [
       "   name   type         \n",
       "1  Rahul  Center       \n",
       "2  Punit  Forward      \n",
       "3  Jhon   Goal Keeper  \n",
       "4  Natsha Forward      \n",
       "5  Harry  Defence      \n",
       "6  Sachin BatsMan      \n",
       "7  Rahul  Fast Bowler  \n",
       "8  Rajat  Spin Bowler  \n",
       "9  Ravi   Wicket Keeper\n",
       "10 John   All rounder  \n",
       "11 Harry  Batsman      "
      ]
     },
     "metadata": {},
     "output_type": "display_data"
    }
   ],
   "source": [
    "students"
   ]
  },
  {
   "cell_type": "code",
   "execution_count": 46,
   "metadata": {},
   "outputs": [],
   "source": [
    "#sorting Data\n",
    "vec1 = sample(45:60,30,replace=T)"
   ]
  },
  {
   "cell_type": "code",
   "execution_count": 47,
   "metadata": {},
   "outputs": [
    {
     "data": {
      "text/html": [
       "<ol class=list-inline>\n",
       "\t<li>50</li>\n",
       "\t<li>59</li>\n",
       "\t<li>58</li>\n",
       "\t<li>45</li>\n",
       "\t<li>53</li>\n",
       "\t<li>46</li>\n",
       "\t<li>48</li>\n",
       "\t<li>47</li>\n",
       "\t<li>51</li>\n",
       "\t<li>58</li>\n",
       "\t<li>54</li>\n",
       "\t<li>55</li>\n",
       "\t<li>53</li>\n",
       "\t<li>56</li>\n",
       "\t<li>48</li>\n",
       "\t<li>51</li>\n",
       "\t<li>48</li>\n",
       "\t<li>47</li>\n",
       "\t<li>52</li>\n",
       "\t<li>57</li>\n",
       "\t<li>46</li>\n",
       "\t<li>48</li>\n",
       "\t<li>49</li>\n",
       "\t<li>47</li>\n",
       "\t<li>57</li>\n",
       "\t<li>49</li>\n",
       "\t<li>45</li>\n",
       "\t<li>59</li>\n",
       "\t<li>47</li>\n",
       "\t<li>57</li>\n",
       "</ol>\n"
      ],
      "text/latex": [
       "\\begin{enumerate*}\n",
       "\\item 50\n",
       "\\item 59\n",
       "\\item 58\n",
       "\\item 45\n",
       "\\item 53\n",
       "\\item 46\n",
       "\\item 48\n",
       "\\item 47\n",
       "\\item 51\n",
       "\\item 58\n",
       "\\item 54\n",
       "\\item 55\n",
       "\\item 53\n",
       "\\item 56\n",
       "\\item 48\n",
       "\\item 51\n",
       "\\item 48\n",
       "\\item 47\n",
       "\\item 52\n",
       "\\item 57\n",
       "\\item 46\n",
       "\\item 48\n",
       "\\item 49\n",
       "\\item 47\n",
       "\\item 57\n",
       "\\item 49\n",
       "\\item 45\n",
       "\\item 59\n",
       "\\item 47\n",
       "\\item 57\n",
       "\\end{enumerate*}\n"
      ],
      "text/markdown": [
       "1. 50\n",
       "2. 59\n",
       "3. 58\n",
       "4. 45\n",
       "5. 53\n",
       "6. 46\n",
       "7. 48\n",
       "8. 47\n",
       "9. 51\n",
       "10. 58\n",
       "11. 54\n",
       "12. 55\n",
       "13. 53\n",
       "14. 56\n",
       "15. 48\n",
       "16. 51\n",
       "17. 48\n",
       "18. 47\n",
       "19. 52\n",
       "20. 57\n",
       "21. 46\n",
       "22. 48\n",
       "23. 49\n",
       "24. 47\n",
       "25. 57\n",
       "26. 49\n",
       "27. 45\n",
       "28. 59\n",
       "29. 47\n",
       "30. 57\n",
       "\n",
       "\n"
      ],
      "text/plain": [
       " [1] 50 59 58 45 53 46 48 47 51 58 54 55 53 56 48 51 48 47 52 57 46 48 49 47 57\n",
       "[26] 49 45 59 47 57"
      ]
     },
     "metadata": {},
     "output_type": "display_data"
    }
   ],
   "source": [
    "vec1"
   ]
  },
  {
   "cell_type": "code",
   "execution_count": 50,
   "metadata": {},
   "outputs": [
    {
     "data": {
      "text/html": [
       "<ol class=list-inline>\n",
       "\t<li>45</li>\n",
       "\t<li>45</li>\n",
       "\t<li>46</li>\n",
       "\t<li>46</li>\n",
       "\t<li>47</li>\n",
       "\t<li>47</li>\n",
       "\t<li>47</li>\n",
       "\t<li>47</li>\n",
       "\t<li>48</li>\n",
       "\t<li>48</li>\n",
       "\t<li>48</li>\n",
       "\t<li>48</li>\n",
       "\t<li>49</li>\n",
       "\t<li>49</li>\n",
       "\t<li>50</li>\n",
       "\t<li>51</li>\n",
       "\t<li>51</li>\n",
       "\t<li>52</li>\n",
       "\t<li>53</li>\n",
       "\t<li>53</li>\n",
       "\t<li>54</li>\n",
       "\t<li>55</li>\n",
       "\t<li>56</li>\n",
       "\t<li>57</li>\n",
       "\t<li>57</li>\n",
       "\t<li>57</li>\n",
       "\t<li>58</li>\n",
       "\t<li>58</li>\n",
       "\t<li>59</li>\n",
       "\t<li>59</li>\n",
       "</ol>\n"
      ],
      "text/latex": [
       "\\begin{enumerate*}\n",
       "\\item 45\n",
       "\\item 45\n",
       "\\item 46\n",
       "\\item 46\n",
       "\\item 47\n",
       "\\item 47\n",
       "\\item 47\n",
       "\\item 47\n",
       "\\item 48\n",
       "\\item 48\n",
       "\\item 48\n",
       "\\item 48\n",
       "\\item 49\n",
       "\\item 49\n",
       "\\item 50\n",
       "\\item 51\n",
       "\\item 51\n",
       "\\item 52\n",
       "\\item 53\n",
       "\\item 53\n",
       "\\item 54\n",
       "\\item 55\n",
       "\\item 56\n",
       "\\item 57\n",
       "\\item 57\n",
       "\\item 57\n",
       "\\item 58\n",
       "\\item 58\n",
       "\\item 59\n",
       "\\item 59\n",
       "\\end{enumerate*}\n"
      ],
      "text/markdown": [
       "1. 45\n",
       "2. 45\n",
       "3. 46\n",
       "4. 46\n",
       "5. 47\n",
       "6. 47\n",
       "7. 47\n",
       "8. 47\n",
       "9. 48\n",
       "10. 48\n",
       "11. 48\n",
       "12. 48\n",
       "13. 49\n",
       "14. 49\n",
       "15. 50\n",
       "16. 51\n",
       "17. 51\n",
       "18. 52\n",
       "19. 53\n",
       "20. 53\n",
       "21. 54\n",
       "22. 55\n",
       "23. 56\n",
       "24. 57\n",
       "25. 57\n",
       "26. 57\n",
       "27. 58\n",
       "28. 58\n",
       "29. 59\n",
       "30. 59\n",
       "\n",
       "\n"
      ],
      "text/plain": [
       " [1] 45 45 46 46 47 47 47 47 48 48 48 48 49 49 50 51 51 52 53 53 54 55 56 57 57\n",
       "[26] 57 58 58 59 59"
      ]
     },
     "metadata": {},
     "output_type": "display_data"
    }
   ],
   "source": [
    "vec1_sort = sort(vec1)\n",
    "vec1_sort"
   ]
  },
  {
   "cell_type": "code",
   "execution_count": 53,
   "metadata": {},
   "outputs": [
    {
     "data": {
      "text/html": [
       "<ol class=list-inline>\n",
       "\t<li>4</li>\n",
       "\t<li>1</li>\n",
       "\t<li>8</li>\n",
       "\t<li>2</li>\n",
       "\t<li>7</li>\n",
       "\t<li>9</li>\n",
       "\t<li>10</li>\n",
       "\t<li>5</li>\n",
       "\t<li>6</li>\n",
       "\t<li>3</li>\n",
       "</ol>\n"
      ],
      "text/latex": [
       "\\begin{enumerate*}\n",
       "\\item 4\n",
       "\\item 1\n",
       "\\item 8\n",
       "\\item 2\n",
       "\\item 7\n",
       "\\item 9\n",
       "\\item 10\n",
       "\\item 5\n",
       "\\item 6\n",
       "\\item 3\n",
       "\\end{enumerate*}\n"
      ],
      "text/markdown": [
       "1. 4\n",
       "2. 1\n",
       "3. 8\n",
       "4. 2\n",
       "5. 7\n",
       "6. 9\n",
       "7. 10\n",
       "8. 5\n",
       "9. 6\n",
       "10. 3\n",
       "\n",
       "\n"
      ],
      "text/plain": [
       " [1]  4  1  8  2  7  9 10  5  6  3"
      ]
     },
     "metadata": {},
     "output_type": "display_data"
    }
   ],
   "source": [
    "d = sample(10)\n",
    "d"
   ]
  },
  {
   "cell_type": "code",
   "execution_count": 54,
   "metadata": {},
   "outputs": [
    {
     "data": {
      "text/html": [
       "<ol class=list-inline>\n",
       "\t<li>2</li>\n",
       "\t<li>4</li>\n",
       "\t<li>10</li>\n",
       "\t<li>1</li>\n",
       "\t<li>8</li>\n",
       "\t<li>9</li>\n",
       "\t<li>5</li>\n",
       "\t<li>3</li>\n",
       "\t<li>6</li>\n",
       "\t<li>7</li>\n",
       "</ol>\n"
      ],
      "text/latex": [
       "\\begin{enumerate*}\n",
       "\\item 2\n",
       "\\item 4\n",
       "\\item 10\n",
       "\\item 1\n",
       "\\item 8\n",
       "\\item 9\n",
       "\\item 5\n",
       "\\item 3\n",
       "\\item 6\n",
       "\\item 7\n",
       "\\end{enumerate*}\n"
      ],
      "text/markdown": [
       "1. 2\n",
       "2. 4\n",
       "3. 10\n",
       "4. 1\n",
       "5. 8\n",
       "6. 9\n",
       "7. 5\n",
       "8. 3\n",
       "9. 6\n",
       "10. 7\n",
       "\n",
       "\n"
      ],
      "text/plain": [
       " [1]  2  4 10  1  8  9  5  3  6  7"
      ]
     },
     "metadata": {},
     "output_type": "display_data"
    }
   ],
   "source": [
    "order(d)"
   ]
  },
  {
   "cell_type": "code",
   "execution_count": 55,
   "metadata": {},
   "outputs": [
    {
     "data": {
      "text/html": [
       "<ol class=list-inline>\n",
       "\t<li>1</li>\n",
       "\t<li>2</li>\n",
       "\t<li>3</li>\n",
       "\t<li>4</li>\n",
       "\t<li>5</li>\n",
       "\t<li>6</li>\n",
       "\t<li>7</li>\n",
       "\t<li>8</li>\n",
       "\t<li>9</li>\n",
       "\t<li>10</li>\n",
       "</ol>\n"
      ],
      "text/latex": [
       "\\begin{enumerate*}\n",
       "\\item 1\n",
       "\\item 2\n",
       "\\item 3\n",
       "\\item 4\n",
       "\\item 5\n",
       "\\item 6\n",
       "\\item 7\n",
       "\\item 8\n",
       "\\item 9\n",
       "\\item 10\n",
       "\\end{enumerate*}\n"
      ],
      "text/markdown": [
       "1. 1\n",
       "2. 2\n",
       "3. 3\n",
       "4. 4\n",
       "5. 5\n",
       "6. 6\n",
       "7. 7\n",
       "8. 8\n",
       "9. 9\n",
       "10. 10\n",
       "\n",
       "\n"
      ],
      "text/plain": [
       " [1]  1  2  3  4  5  6  7  8  9 10"
      ]
     },
     "metadata": {},
     "output_type": "display_data"
    }
   ],
   "source": [
    "d[order(d)]"
   ]
  },
  {
   "cell_type": "code",
   "execution_count": 59,
   "metadata": {},
   "outputs": [
    {
     "data": {
      "text/html": [
       "<ol class=list-inline>\n",
       "\t<li>10</li>\n",
       "\t<li>9</li>\n",
       "\t<li>8</li>\n",
       "\t<li>7</li>\n",
       "\t<li>6</li>\n",
       "\t<li>5</li>\n",
       "\t<li>4</li>\n",
       "\t<li>3</li>\n",
       "\t<li>2</li>\n",
       "\t<li>1</li>\n",
       "</ol>\n"
      ],
      "text/latex": [
       "\\begin{enumerate*}\n",
       "\\item 10\n",
       "\\item 9\n",
       "\\item 8\n",
       "\\item 7\n",
       "\\item 6\n",
       "\\item 5\n",
       "\\item 4\n",
       "\\item 3\n",
       "\\item 2\n",
       "\\item 1\n",
       "\\end{enumerate*}\n"
      ],
      "text/markdown": [
       "1. 10\n",
       "2. 9\n",
       "3. 8\n",
       "4. 7\n",
       "5. 6\n",
       "6. 5\n",
       "7. 4\n",
       "8. 3\n",
       "9. 2\n",
       "10. 1\n",
       "\n",
       "\n"
      ],
      "text/plain": [
       " [1] 10  9  8  7  6  5  4  3  2  1"
      ]
     },
     "metadata": {},
     "output_type": "display_data"
    }
   ],
   "source": [
    "#reverse order sorting\n",
    "sort(d,decreasing =T)"
   ]
  },
  {
   "cell_type": "code",
   "execution_count": 58,
   "metadata": {},
   "outputs": [
    {
     "data": {
      "text/html": [
       "<ol class=list-inline>\n",
       "\t<li>10</li>\n",
       "\t<li>9</li>\n",
       "\t<li>8</li>\n",
       "\t<li>7</li>\n",
       "\t<li>6</li>\n",
       "\t<li>5</li>\n",
       "\t<li>4</li>\n",
       "\t<li>3</li>\n",
       "\t<li>2</li>\n",
       "\t<li>1</li>\n",
       "</ol>\n"
      ],
      "text/latex": [
       "\\begin{enumerate*}\n",
       "\\item 10\n",
       "\\item 9\n",
       "\\item 8\n",
       "\\item 7\n",
       "\\item 6\n",
       "\\item 5\n",
       "\\item 4\n",
       "\\item 3\n",
       "\\item 2\n",
       "\\item 1\n",
       "\\end{enumerate*}\n"
      ],
      "text/markdown": [
       "1. 10\n",
       "2. 9\n",
       "3. 8\n",
       "4. 7\n",
       "5. 6\n",
       "6. 5\n",
       "7. 4\n",
       "8. 3\n",
       "9. 2\n",
       "10. 1\n",
       "\n",
       "\n"
      ],
      "text/plain": [
       " [1] 10  9  8  7  6  5  4  3  2  1"
      ]
     },
     "metadata": {},
     "output_type": "display_data"
    }
   ],
   "source": [
    "d[order(-d)]"
   ]
  },
  {
   "cell_type": "code",
   "execution_count": 66,
   "metadata": {},
   "outputs": [
    {
     "data": {
      "text/html": [
       "<table>\n",
       "<thead><tr><th scope=col>id</th><th scope=col>height</th><th scope=col>weight</th><th scope=col>color</th></tr></thead>\n",
       "<tbody>\n",
       "\t<tr><td>1   </td><td>5.05</td><td>60  </td><td>fair</td></tr>\n",
       "\t<tr><td>2   </td><td>5.11</td><td>65  </td><td>dull</td></tr>\n",
       "\t<tr><td>3   </td><td>5.04</td><td>55  </td><td>fair</td></tr>\n",
       "\t<tr><td>4   </td><td>5.07</td><td>59  </td><td>fair</td></tr>\n",
       "\t<tr><td>5   </td><td>5.03</td><td>55  </td><td>dull</td></tr>\n",
       "\t<tr><td>6   </td><td>5.10</td><td>70  </td><td>dull</td></tr>\n",
       "</tbody>\n",
       "</table>\n"
      ],
      "text/latex": [
       "\\begin{tabular}{r|llll}\n",
       " id & height & weight & color\\\\\n",
       "\\hline\n",
       "\t 1    & 5.05 & 60   & fair\\\\\n",
       "\t 2    & 5.11 & 65   & dull\\\\\n",
       "\t 3    & 5.04 & 55   & fair\\\\\n",
       "\t 4    & 5.07 & 59   & fair\\\\\n",
       "\t 5    & 5.03 & 55   & dull\\\\\n",
       "\t 6    & 5.10 & 70   & dull\\\\\n",
       "\\end{tabular}\n"
      ],
      "text/markdown": [
       "\n",
       "id | height | weight | color | \n",
       "|---|---|---|---|---|---|\n",
       "| 1    | 5.05 | 60   | fair | \n",
       "| 2    | 5.11 | 65   | dull | \n",
       "| 3    | 5.04 | 55   | fair | \n",
       "| 4    | 5.07 | 59   | fair | \n",
       "| 5    | 5.03 | 55   | dull | \n",
       "| 6    | 5.10 | 70   | dull | \n",
       "\n",
       "\n"
      ],
      "text/plain": [
       "  id height weight color\n",
       "1 1  5.05   60     fair \n",
       "2 2  5.11   65     dull \n",
       "3 3  5.04   55     fair \n",
       "4 4  5.07   59     fair \n",
       "5 5  5.03   55     dull \n",
       "6 6  5.10   70     dull "
      ]
     },
     "metadata": {},
     "output_type": "display_data"
    }
   ],
   "source": [
    "#Data Frame sorting \n",
    "d = data.frame(id=c(1,2,3,4,5,6),height=c(5.05,5.11,5.04,5.07,5.03,5.10),\n",
    "              weight=c(60,65,55,59,55,70),\n",
    "              color=c('fair','dull','fair','fair','dull','dull')\n",
    "              )\n",
    "d"
   ]
  },
  {
   "cell_type": "code",
   "execution_count": 67,
   "metadata": {},
   "outputs": [
    {
     "data": {
      "text/html": [
       "<table>\n",
       "<thead><tr><th></th><th scope=col>id</th><th scope=col>height</th><th scope=col>weight</th><th scope=col>color</th></tr></thead>\n",
       "<tbody>\n",
       "\t<tr><th scope=row>5</th><td>5   </td><td>5.03</td><td>55  </td><td>dull</td></tr>\n",
       "\t<tr><th scope=row>3</th><td>3   </td><td>5.04</td><td>55  </td><td>fair</td></tr>\n",
       "\t<tr><th scope=row>1</th><td>1   </td><td>5.05</td><td>60  </td><td>fair</td></tr>\n",
       "\t<tr><th scope=row>4</th><td>4   </td><td>5.07</td><td>59  </td><td>fair</td></tr>\n",
       "\t<tr><th scope=row>6</th><td>6   </td><td>5.10</td><td>70  </td><td>dull</td></tr>\n",
       "\t<tr><th scope=row>2</th><td>2   </td><td>5.11</td><td>65  </td><td>dull</td></tr>\n",
       "</tbody>\n",
       "</table>\n"
      ],
      "text/latex": [
       "\\begin{tabular}{r|llll}\n",
       "  & id & height & weight & color\\\\\n",
       "\\hline\n",
       "\t5 & 5    & 5.03 & 55   & dull\\\\\n",
       "\t3 & 3    & 5.04 & 55   & fair\\\\\n",
       "\t1 & 1    & 5.05 & 60   & fair\\\\\n",
       "\t4 & 4    & 5.07 & 59   & fair\\\\\n",
       "\t6 & 6    & 5.10 & 70   & dull\\\\\n",
       "\t2 & 2    & 5.11 & 65   & dull\\\\\n",
       "\\end{tabular}\n"
      ],
      "text/markdown": [
       "\n",
       "| <!--/--> | id | height | weight | color | \n",
       "|---|---|---|---|---|---|\n",
       "| 5 | 5    | 5.03 | 55   | dull | \n",
       "| 3 | 3    | 5.04 | 55   | fair | \n",
       "| 1 | 1    | 5.05 | 60   | fair | \n",
       "| 4 | 4    | 5.07 | 59   | fair | \n",
       "| 6 | 6    | 5.10 | 70   | dull | \n",
       "| 2 | 2    | 5.11 | 65   | dull | \n",
       "\n",
       "\n"
      ],
      "text/plain": [
       "  id height weight color\n",
       "5 5  5.03   55     dull \n",
       "3 3  5.04   55     fair \n",
       "1 1  5.05   60     fair \n",
       "4 4  5.07   59     fair \n",
       "6 6  5.10   70     dull \n",
       "2 2  5.11   65     dull "
      ]
     },
     "metadata": {},
     "output_type": "display_data"
    }
   ],
   "source": [
    "#sort by height \n",
    "d[order(d$height),]"
   ]
  },
  {
   "cell_type": "code",
   "execution_count": 71,
   "metadata": {},
   "outputs": [
    {
     "data": {
      "text/html": [
       "<table>\n",
       "<thead><tr><th></th><th scope=col>id</th><th scope=col>height</th><th scope=col>weight</th><th scope=col>color</th></tr></thead>\n",
       "<tbody>\n",
       "\t<tr><th scope=row>5</th><td>5   </td><td>5.03</td><td>55  </td><td>dull</td></tr>\n",
       "\t<tr><th scope=row>3</th><td>3   </td><td>5.04</td><td>55  </td><td>fair</td></tr>\n",
       "\t<tr><th scope=row>1</th><td>1   </td><td>5.05</td><td>60  </td><td>fair</td></tr>\n",
       "\t<tr><th scope=row>4</th><td>4   </td><td>5.07</td><td>59  </td><td>fair</td></tr>\n",
       "\t<tr><th scope=row>6</th><td>6   </td><td>5.10</td><td>70  </td><td>dull</td></tr>\n",
       "\t<tr><th scope=row>2</th><td>2   </td><td>5.11</td><td>65  </td><td>dull</td></tr>\n",
       "</tbody>\n",
       "</table>\n"
      ],
      "text/latex": [
       "\\begin{tabular}{r|llll}\n",
       "  & id & height & weight & color\\\\\n",
       "\\hline\n",
       "\t5 & 5    & 5.03 & 55   & dull\\\\\n",
       "\t3 & 3    & 5.04 & 55   & fair\\\\\n",
       "\t1 & 1    & 5.05 & 60   & fair\\\\\n",
       "\t4 & 4    & 5.07 & 59   & fair\\\\\n",
       "\t6 & 6    & 5.10 & 70   & dull\\\\\n",
       "\t2 & 2    & 5.11 & 65   & dull\\\\\n",
       "\\end{tabular}\n"
      ],
      "text/markdown": [
       "\n",
       "| <!--/--> | id | height | weight | color | \n",
       "|---|---|---|---|---|---|\n",
       "| 5 | 5    | 5.03 | 55   | dull | \n",
       "| 3 | 3    | 5.04 | 55   | fair | \n",
       "| 1 | 1    | 5.05 | 60   | fair | \n",
       "| 4 | 4    | 5.07 | 59   | fair | \n",
       "| 6 | 6    | 5.10 | 70   | dull | \n",
       "| 2 | 2    | 5.11 | 65   | dull | \n",
       "\n",
       "\n"
      ],
      "text/plain": [
       "  id height weight color\n",
       "5 5  5.03   55     dull \n",
       "3 3  5.04   55     fair \n",
       "1 1  5.05   60     fair \n",
       "4 4  5.07   59     fair \n",
       "6 6  5.10   70     dull \n",
       "2 2  5.11   65     dull "
      ]
     },
     "metadata": {},
     "output_type": "display_data"
    }
   ],
   "source": [
    "#sort by height than sort by weight \n",
    "d[order(d$height,d$weight),]"
   ]
  },
  {
   "cell_type": "code",
   "execution_count": 75,
   "metadata": {},
   "outputs": [
    {
     "data": {
      "text/html": [
       "<table>\n",
       "<thead><tr><th></th><th scope=col>id</th><th scope=col>height</th><th scope=col>weight</th><th scope=col>color</th></tr></thead>\n",
       "<tbody>\n",
       "\t<tr><th scope=row>5</th><td>5   </td><td>5.03</td><td>55  </td><td>dull</td></tr>\n",
       "\t<tr><th scope=row>6</th><td>6   </td><td>5.10</td><td>70  </td><td>dull</td></tr>\n",
       "\t<tr><th scope=row>2</th><td>2   </td><td>5.11</td><td>65  </td><td>dull</td></tr>\n",
       "\t<tr><th scope=row>3</th><td>3   </td><td>5.04</td><td>55  </td><td>fair</td></tr>\n",
       "\t<tr><th scope=row>1</th><td>1   </td><td>5.05</td><td>60  </td><td>fair</td></tr>\n",
       "\t<tr><th scope=row>4</th><td>4   </td><td>5.07</td><td>59  </td><td>fair</td></tr>\n",
       "</tbody>\n",
       "</table>\n"
      ],
      "text/latex": [
       "\\begin{tabular}{r|llll}\n",
       "  & id & height & weight & color\\\\\n",
       "\\hline\n",
       "\t5 & 5    & 5.03 & 55   & dull\\\\\n",
       "\t6 & 6    & 5.10 & 70   & dull\\\\\n",
       "\t2 & 2    & 5.11 & 65   & dull\\\\\n",
       "\t3 & 3    & 5.04 & 55   & fair\\\\\n",
       "\t1 & 1    & 5.05 & 60   & fair\\\\\n",
       "\t4 & 4    & 5.07 & 59   & fair\\\\\n",
       "\\end{tabular}\n"
      ],
      "text/markdown": [
       "\n",
       "| <!--/--> | id | height | weight | color | \n",
       "|---|---|---|---|---|---|\n",
       "| 5 | 5    | 5.03 | 55   | dull | \n",
       "| 6 | 6    | 5.10 | 70   | dull | \n",
       "| 2 | 2    | 5.11 | 65   | dull | \n",
       "| 3 | 3    | 5.04 | 55   | fair | \n",
       "| 1 | 1    | 5.05 | 60   | fair | \n",
       "| 4 | 4    | 5.07 | 59   | fair | \n",
       "\n",
       "\n"
      ],
      "text/plain": [
       "  id height weight color\n",
       "5 5  5.03   55     dull \n",
       "6 6  5.10   70     dull \n",
       "2 2  5.11   65     dull \n",
       "3 3  5.04   55     fair \n",
       "1 1  5.05   60     fair \n",
       "4 4  5.07   59     fair "
      ]
     },
     "metadata": {},
     "output_type": "display_data"
    }
   ],
   "source": [
    "#first sort by color than sort by height\n",
    "d[order(d$color,d$height),]"
   ]
  },
  {
   "cell_type": "code",
   "execution_count": 78,
   "metadata": {},
   "outputs": [
    {
     "data": {
      "text/html": [
       "<table>\n",
       "<thead><tr><th></th><th scope=col>id</th><th scope=col>height</th><th scope=col>weight</th><th scope=col>color</th></tr></thead>\n",
       "<tbody>\n",
       "\t<tr><th scope=row>2</th><td>2   </td><td>5.11</td><td>65  </td><td>dull</td></tr>\n",
       "\t<tr><th scope=row>6</th><td>6   </td><td>5.10</td><td>70  </td><td>dull</td></tr>\n",
       "\t<tr><th scope=row>5</th><td>5   </td><td>5.03</td><td>55  </td><td>dull</td></tr>\n",
       "\t<tr><th scope=row>4</th><td>4   </td><td>5.07</td><td>59  </td><td>fair</td></tr>\n",
       "\t<tr><th scope=row>1</th><td>1   </td><td>5.05</td><td>60  </td><td>fair</td></tr>\n",
       "\t<tr><th scope=row>3</th><td>3   </td><td>5.04</td><td>55  </td><td>fair</td></tr>\n",
       "</tbody>\n",
       "</table>\n"
      ],
      "text/latex": [
       "\\begin{tabular}{r|llll}\n",
       "  & id & height & weight & color\\\\\n",
       "\\hline\n",
       "\t2 & 2    & 5.11 & 65   & dull\\\\\n",
       "\t6 & 6    & 5.10 & 70   & dull\\\\\n",
       "\t5 & 5    & 5.03 & 55   & dull\\\\\n",
       "\t4 & 4    & 5.07 & 59   & fair\\\\\n",
       "\t1 & 1    & 5.05 & 60   & fair\\\\\n",
       "\t3 & 3    & 5.04 & 55   & fair\\\\\n",
       "\\end{tabular}\n"
      ],
      "text/markdown": [
       "\n",
       "| <!--/--> | id | height | weight | color | \n",
       "|---|---|---|---|---|---|\n",
       "| 2 | 2    | 5.11 | 65   | dull | \n",
       "| 6 | 6    | 5.10 | 70   | dull | \n",
       "| 5 | 5    | 5.03 | 55   | dull | \n",
       "| 4 | 4    | 5.07 | 59   | fair | \n",
       "| 1 | 1    | 5.05 | 60   | fair | \n",
       "| 3 | 3    | 5.04 | 55   | fair | \n",
       "\n",
       "\n"
      ],
      "text/plain": [
       "  id height weight color\n",
       "2 2  5.11   65     dull \n",
       "6 6  5.10   70     dull \n",
       "5 5  5.03   55     dull \n",
       "4 4  5.07   59     fair \n",
       "1 1  5.05   60     fair \n",
       "3 3  5.04   55     fair "
      ]
     },
     "metadata": {},
     "output_type": "display_data"
    }
   ],
   "source": [
    "#reverse order sorting\n",
    "#first sort by color than sort by height\n",
    "d[order(d$color,-d$height),]"
   ]
  },
  {
   "cell_type": "code",
   "execution_count": 79,
   "metadata": {},
   "outputs": [
    {
     "data": {
      "text/html": [
       "<table>\n",
       "<tbody>\n",
       "\t<tr><th scope=row>id</th><td>1   </td><td>2   </td><td>3   </td><td>4   </td><td>5   </td><td>6   </td></tr>\n",
       "\t<tr><th scope=row>height</th><td>5.05</td><td>5.11</td><td>5.04</td><td>5.07</td><td>5.03</td><td>5.10</td></tr>\n",
       "\t<tr><th scope=row>weight</th><td>60  </td><td>65  </td><td>55  </td><td>59  </td><td>55  </td><td>70  </td></tr>\n",
       "\t<tr><th scope=row>color</th><td>fair</td><td>dull</td><td>fair</td><td>fair</td><td>dull</td><td>dull</td></tr>\n",
       "</tbody>\n",
       "</table>\n"
      ],
      "text/latex": [
       "\\begin{tabular}{r|llllll}\n",
       "\tid & 1    & 2    & 3    & 4    & 5    & 6   \\\\\n",
       "\theight & 5.05 & 5.11 & 5.04 & 5.07 & 5.03 & 5.10\\\\\n",
       "\tweight & 60   & 65   & 55   & 59   & 55   & 70  \\\\\n",
       "\tcolor & fair & dull & fair & fair & dull & dull\\\\\n",
       "\\end{tabular}\n"
      ],
      "text/markdown": [
       "\n",
       "| id | 1    | 2    | 3    | 4    | 5    | 6    | \n",
       "| height | 5.05 | 5.11 | 5.04 | 5.07 | 5.03 | 5.10 | \n",
       "| weight | 60   | 65   | 55   | 59   | 55   | 70   | \n",
       "| color | fair | dull | fair | fair | dull | dull | \n",
       "\n",
       "\n"
      ],
      "text/plain": [
       "       [,1] [,2] [,3] [,4] [,5] [,6]\n",
       "id     1    2    3    4    5    6   \n",
       "height 5.05 5.11 5.04 5.07 5.03 5.10\n",
       "weight 60   65   55   59   55   70  \n",
       "color  fair dull fair fair dull dull"
      ]
     },
     "metadata": {},
     "output_type": "display_data"
    }
   ],
   "source": [
    "#you can Transpose Matrix by t() function \n",
    "d1 = t(d)\n",
    "d1"
   ]
  },
  {
   "cell_type": "code",
   "execution_count": null,
   "metadata": {},
   "outputs": [],
   "source": []
  }
 ],
 "metadata": {
  "kernelspec": {
   "display_name": "R",
   "language": "R",
   "name": "ir"
  },
  "language_info": {
   "codemirror_mode": "r",
   "file_extension": ".r",
   "mimetype": "text/x-r-source",
   "name": "R",
   "pygments_lexer": "r",
   "version": "3.5.0"
  }
 },
 "nbformat": 4,
 "nbformat_minor": 2
}
